{
 "cells": [
  {
   "cell_type": "code",
   "execution_count": 19,
   "metadata": {
    "ExecuteTime": {
     "end_time": "2019-02-19T15:33:02.676745Z",
     "start_time": "2019-02-19T15:33:02.500363Z"
    }
   },
   "outputs": [],
   "source": [
    "import matplotlib.pyplot as plt\n",
    "import pandas as pd\n",
    "import numpy as np\n",
    "from bs4 import BeautifulSoup\n",
    "import requests\n"
   ]
  },
  {
   "cell_type": "code",
   "execution_count": 26,
   "metadata": {
    "ExecuteTime": {
     "end_time": "2019-02-19T15:41:12.958974Z",
     "start_time": "2019-02-19T15:41:12.611090Z"
    },
    "code_folding": []
   },
   "outputs": [],
   "source": [
    "urlpre = \"https://cuetracker.net/players/\"\n",
    "urlpost =\"/century-frequency\"\n",
    "players = {\"ronnie osullivan\":\"\", \"neil robertson\":\"\"}\n",
    "for player in players:\n",
    "    url = urlpre+player.replace(\" \", \"-\")+urlpost\n",
    "    soup = BeautifulSoup(requests.get(url).content, \"lxml\")\n",
    "    players[player] = soup.find(\"table\", {\"class\":\"table table-striped\"})"
   ]
  },
  {
   "cell_type": "code",
   "execution_count": 43,
   "metadata": {
    "ExecuteTime": {
     "end_time": "2019-02-19T16:03:49.971782Z",
     "start_time": "2019-02-19T16:03:49.133516Z"
    },
    "scrolled": false
   },
   "outputs": [
    {
     "data": {
      "image/png": "[encoded data removed]",
      "text/plain": [
       "<Figure size 720x432 with 2 Axes>"
      ]
     },
     "metadata": {
      "needs_background": "light"
     },
     "output_type": "display_data"
    }
   ],
   "source": [
    "fig, ax = plt.subplots(len(players), 1, sharex=True, sharey=True, figsize=(10,3*len(players)))\n",
    "row = 0\n",
    "for player in players:\n",
    "    df = pd.read_html(str(players[player]))\n",
    "    df = df[0]\n",
    "    df = df.set_index(['Break'])\n",
    "    df['Frequency'].plot(kind='bar', ax=ax[row], title=player)\n",
    "    row = row+1\n",
    "plt.show()"
   ]
  },
  {
   "cell_type": "code",
   "execution_count": 13,
   "metadata": {
    "ExecuteTime": {
     "end_time": "2019-02-19T15:20:14.983628Z",
     "start_time": "2019-02-19T15:20:14.979194Z"
    }
   },
   "outputs": [],
   "source": []
  }
 ],
 "metadata": {
  "kernelspec": {
   "display_name": "Python 3",
   "language": "python",
   "name": "python3"
  },
  "language_info": {
   "codemirror_mode": {
    "name": "ipython",
    "version": 3
   },
   "file_extension": ".py",
   "mimetype": "text/x-python",
   "name": "python",
   "nbconvert_exporter": "python",
   "pygments_lexer": "ipython3",
   "version": "3.7.1"
  },
  "toc": {
   "base_numbering": 1,
   "nav_menu": {},
   "number_sections": true,
   "sideBar": true,
   "skip_h1_title": false,
   "title_cell": "Table of Contents",
   "title_sidebar": "Contents",
   "toc_cell": false,
   "toc_position": {},
   "toc_section_display": true,
   "toc_window_display": false
  }
 },
 "nbformat": 4,
 "nbformat_minor": 2
}
