{
 "cells": [
  {
   "cell_type": "markdown",
   "metadata": {
    "toc": true
   },
   "source": [
    "<h1>Table of Contents<span class=\"tocSkip\"></span></h1>\n",
    "<div class=\"toc\"><ul class=\"toc-item\"><li><span><a href=\"#Dependencies\" data-toc-modified-id=\"Dependencies-1\"><span class=\"toc-item-num\">1&nbsp;&nbsp;</span>Dependencies</a></span></li><li><span><a href=\"#Scraping\" data-toc-modified-id=\"Scraping-2\"><span class=\"toc-item-num\">2&nbsp;&nbsp;</span>Scraping</a></span></li><li><span><a href=\"#Analyzing\" data-toc-modified-id=\"Analyzing-3\"><span class=\"toc-item-num\">3&nbsp;&nbsp;</span>Analyzing</a></span></li><li><span><a href=\"#Vizzing\" data-toc-modified-id=\"Vizzing-4\"><span class=\"toc-item-num\">4&nbsp;&nbsp;</span>Vizzing</a></span></li></ul></div>"
   ]
  },
  {
   "cell_type": "markdown",
   "metadata": {},
   "source": [
    "## Dependencies"
   ]
  },
  {
   "cell_type": "code",
   "execution_count": 43,
   "metadata": {
    "ExecuteTime": {
     "end_time": "2018-10-29T22:11:22.481185Z",
     "start_time": "2018-10-29T22:11:22.478184Z"
    },
    "collapsed": true
   },
   "outputs": [],
   "source": [
    "import pandas as pd\n",
    "from bs4 import BeautifulSoup\n",
    "import requests\n",
    "import matplotlib.pyplot as plt"
   ]
  },
  {
   "cell_type": "markdown",
   "metadata": {},
   "source": [
    "## Scraping"
   ]
  },
  {
   "cell_type": "code",
   "execution_count": 68,
   "metadata": {
    "ExecuteTime": {
     "end_time": "2018-10-29T22:29:01.225434Z",
     "start_time": "2018-10-29T22:29:01.205834Z"
    },
    "collapsed": true
   },
   "outputs": [],
   "source": [
    "def trumpInTitle(title):\n",
    "    trumpArray = ['Trump', 'President', 'president', 'Donald']\n",
    "    title = title.replace(\"'\", ' ')\n",
    "    title = title.replace('-', ' ')\n",
    "    wordlist = title.split(' ')\n",
    "    for word in wordlist:\n",
    "        if word in trumpArray:\n",
    "            return True\n",
    "    return False\n",
    "\n",
    "def addChannelToDf(soup, key, df):\n",
    "    items = soup.find_all(\"h3\", {\"class\":\"yt-lockup-title\"})\n",
    "    meta = soup.find_all(\"ul\", {\"class\":\"yt-lockup-meta-info\"})\n",
    "    for i in range(0, len(items)):\n",
    "        title = items[i].find('a')['title']\n",
    "        views = meta[i].find('li').text.strip().split(' ')[0].replace('.', '')\n",
    "        df = df.append({'show':key, 'title':title, 'views':views, 'trumpInTitle': trumpInTitle(title)}, ignore_index=True)\n",
    "    return df"
   ]
  },
  {
   "cell_type": "code",
   "execution_count": 69,
   "metadata": {
    "ExecuteTime": {
     "end_time": "2018-10-29T22:29:30.078430Z",
     "start_time": "2018-10-29T22:29:04.231968Z"
    },
    "collapsed": true
   },
   "outputs": [],
   "source": [
    "#Running time: about 4seconds per channel\n",
    "df = pd.DataFrame(columns=['show', 'title', 'views', 'trumpInTitle'])\n",
    "urls = {'Colbert': 'https://www.youtube.com/channel/UCMtFAi84ehTSYSE9XoHefig/videos',\n",
    "        'Daily Show': 'https://www.youtube.com/channel/UCwWhs_6x42TyRM4Wstoq8HA/videos',\n",
    "       'Seth Meyers': 'https://www.youtube.com/user/LateNightSeth/videos',\n",
    "       'FOX': 'https://www.youtube.com/user/FoxNewsChannel/videos',\n",
    "       'CNN':'https://www.youtube.com/user/CNN/videos',\n",
    "       'MSNBC':'https://www.youtube.com/user/msnbcleanforward/videos',\n",
    "       'ABC': 'https://www.youtube.com/user/ABCNews/videos',\n",
    "       'NBC': 'https://www.youtube.com/user/NBCNews/videos'\n",
    "       }\n",
    "for key in urls:\n",
    "    soup = BeautifulSoup(requests.get(urls[key]).content, \"lxml\")\n",
    "    df = addChannelToDf(soup, key, df)\n"
   ]
  },
  {
   "cell_type": "markdown",
   "metadata": {
    "ExecuteTime": {
     "end_time": "2018-10-29T22:06:20.608907Z",
     "start_time": "2018-10-29T22:06:20.582906Z"
    }
   },
   "source": [
    "## Analyzing"
   ]
  },
  {
   "cell_type": "code",
   "execution_count": 70,
   "metadata": {
    "ExecuteTime": {
     "end_time": "2018-10-29T22:29:35.297836Z",
     "start_time": "2018-10-29T22:29:35.121232Z"
    }
   },
   "outputs": [],
   "source": [
    "#print(df[['title', 'trumpInTitle']])\n",
    "avgDF = pd.DataFrame(columns=['show', 'TotalViewWith', 'TotalWith', 'TotalViewWithout', 'TotalWithout'])\n",
    "df[['views']] = df[['views']].apply(pd.to_numeric)\n",
    "for key in urls:\n",
    "    totalViewWith = 0\n",
    "    totalWith = 0\n",
    "    totalViewWithout = 0\n",
    "    totalWithout = 0\n",
    "    for index, row in df.iterrows():\n",
    "        if row['show'] == key:\n",
    "            if row['trumpInTitle'] == True:\n",
    "                totalWith += 1\n",
    "                totalViewWith += row['views']\n",
    "            else:\n",
    "                totalWithout += 1\n",
    "                totalViewWithout += row['views']\n",
    "    avgDF = avgDF.append({'show':key, 'TotalViewWith':totalViewWith, 'TotalWith':totalWith, 'TotalViewWithout':totalViewWithout, 'TotalWithout':totalWithout}, ignore_index=True)\n",
    "    "
   ]
  },
  {
   "cell_type": "code",
   "execution_count": 71,
   "metadata": {
    "ExecuteTime": {
     "end_time": "2018-10-29T22:29:36.792301Z",
     "start_time": "2018-10-29T22:29:36.776701Z"
    }
   },
   "outputs": [],
   "source": [
    "#calculating averages\n",
    "avgDF['avgWith'] = avgDF.apply(lambda x: x['TotalViewWith']/x['TotalWith'], axis=1)\n",
    "avgDF['avgWithout'] = avgDF.apply(lambda x: x['TotalViewWithout']/x['TotalWithout'], axis=1)\n",
    "avgDF.set_index('show', inplace=True)"
   ]
  },
  {
   "cell_type": "markdown",
   "metadata": {},
   "source": [
    "## Vizzing"
   ]
  },
  {
   "cell_type": "code",
   "execution_count": 73,
   "metadata": {
    "ExecuteTime": {
     "end_time": "2018-10-29T22:30:02.115183Z",
     "start_time": "2018-10-29T22:30:01.743977Z"
    }
   },
   "outputs": [
    {
     "data": {
      "image/png": "[encoded data removed]",
      "text/plain": [
       "<matplotlib.figure.Figure at 0xe2901d0>"
      ]
     },
     "metadata": {},
     "output_type": "display_data"
    }
   ],
   "source": [
    "fig = plt.figure(figsize=(20,10))\n",
    "ax = fig.add_subplot(111)\n",
    "avgDF[['avgWith', 'avgWithout']].plot(kind='bar', ax=ax)\n",
    "\n",
    "plt.title('Average views per video', size=25)\n",
    "ax.legend(['With Trump in title', 'Without Trump in title'], loc='upper right', prop={'size':15})\n",
    "ax.set_xlabel('Channel', size=20)\n",
    "plt.grid(which='major', axis='y')\n",
    "#plt.savefig('png/trumpviews.png')\n",
    "plt.show()"
   ]
  }
 ],
 "metadata": {
  "kernelspec": {
   "display_name": "Python 3",
   "language": "python",
   "name": "python3"
  },
  "language_info": {
   "codemirror_mode": {
    "name": "ipython",
    "version": 3
   },
   "file_extension": ".py",
   "mimetype": "text/x-python",
   "name": "python",
   "nbconvert_exporter": "python",
   "pygments_lexer": "ipython3",
   "version": "3.6.3"
  },
  "toc": {
   "base_numbering": 1,
   "nav_menu": {},
   "number_sections": true,
   "sideBar": true,
   "skip_h1_title": true,
   "title_cell": "Table of Contents",
   "title_sidebar": "Contents",
   "toc_cell": true,
   "toc_position": {},
   "toc_section_display": true,
   "toc_window_display": false
  }
 },
 "nbformat": 4,
 "nbformat_minor": 2
}
