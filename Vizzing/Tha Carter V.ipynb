{
 "cells": [
  {
   "cell_type": "markdown",
   "metadata": {
    "toc": true
   },
   "source": [
    "<h1>Table of Contents<span class=\"tocSkip\"></span></h1>\n",
    "<div class=\"toc\"><ul class=\"toc-item\"><li><span><a href=\"#Dependencies\" data-toc-modified-id=\"Dependencies-1\"><span class=\"toc-item-num\">1&nbsp;&nbsp;</span>Dependencies</a></span></li><li><span><a href=\"#Getting-Stats\" data-toc-modified-id=\"Getting-Stats-2\"><span class=\"toc-item-num\">2&nbsp;&nbsp;</span>Getting Stats</a></span><ul class=\"toc-item\"><li><span><a href=\"#Calculate-percentage-nwords\" data-toc-modified-id=\"Calculate-percentage-nwords-2.1\"><span class=\"toc-item-num\">2.1&nbsp;&nbsp;</span>Calculate percentage nwords</a></span></li><li><span><a href=\"#Calculate-amount-of-unique-words\" data-toc-modified-id=\"Calculate-amount-of-unique-words-2.2\"><span class=\"toc-item-num\">2.2&nbsp;&nbsp;</span>Calculate amount of unique words</a></span></li></ul></li><li><span><a href=\"#Plotting-&amp;-Displaying\" data-toc-modified-id=\"Plotting-&amp;-Displaying-3\"><span class=\"toc-item-num\">3&nbsp;&nbsp;</span>Plotting &amp; Displaying</a></span></li></ul></div>"
   ]
  },
  {
   "cell_type": "markdown",
   "metadata": {},
   "source": [
    "# Tha Carter V lyrics analysis"
   ]
  },
  {
   "cell_type": "markdown",
   "metadata": {},
   "source": [
    "## Dependencies"
   ]
  },
  {
   "cell_type": "code",
   "execution_count": 1,
   "metadata": {
    "ExecuteTime": {
     "end_time": "2018-10-27T22:17:33.944847Z",
     "start_time": "2018-10-27T22:17:33.415816Z"
    },
    "collapsed": true
   },
   "outputs": [],
   "source": [
    "import matplotlib.pyplot as plt\n",
    "import os\n",
    "import pandas as pd"
   ]
  },
  {
   "cell_type": "markdown",
   "metadata": {},
   "source": [
    "## Getting Stats"
   ]
  },
  {
   "cell_type": "markdown",
   "metadata": {},
   "source": [
    "### Calculate percentage nwords"
   ]
  },
  {
   "cell_type": "code",
   "execution_count": 6,
   "metadata": {
    "ExecuteTime": {
     "end_time": "2018-10-27T22:21:07.081037Z",
     "start_time": "2018-10-27T22:21:07.076037Z"
    },
    "collapsed": true
   },
   "outputs": [],
   "source": [
    "def getPercentageNWords(words):\n",
    "    NWords = ['nigga', 'niggaz', 'niggas']\n",
    "    nNWords = 0\n",
    "    for word in words:\n",
    "        if word in NWords:\n",
    "            nNWords += 1\n",
    "    return nNWords"
   ]
  },
  {
   "cell_type": "markdown",
   "metadata": {},
   "source": [
    "### Calculate amount of unique words"
   ]
  },
  {
   "cell_type": "code",
   "execution_count": 12,
   "metadata": {
    "ExecuteTime": {
     "end_time": "2018-10-27T22:22:52.773083Z",
     "start_time": "2018-10-27T22:22:52.769082Z"
    },
    "collapsed": true
   },
   "outputs": [],
   "source": [
    "def getUniqueWords(words):\n",
    "    uniquewords = []\n",
    "    for word in words:\n",
    "        if word not in uniquewords:\n",
    "            uniquewords.append(word)\n",
    "    return len(uniquewords)"
   ]
  },
  {
   "cell_type": "code",
   "execution_count": 67,
   "metadata": {
    "ExecuteTime": {
     "end_time": "2018-10-27T23:16:48.157376Z",
     "start_time": "2018-10-27T23:16:48.024369Z"
    }
   },
   "outputs": [],
   "source": [
    "def getWordList(lyrics):\n",
    "    raw = lyrics.replace(',', '')\n",
    "    raw = raw.replace('(', '')\n",
    "    raw = raw.replace(')', '')\n",
    "    raw = raw.replace('\\n', ' ')\n",
    "    words = raw.split(' ')\n",
    "    return words\n",
    "\n",
    "#DataFrame for all stats\n",
    "df = pd.DataFrame(columns=['seq', 'Song Title', 'Words', 'N-Words', 'Unique Words'])\n",
    "\n",
    "#Directory of all songlyrics\n",
    "directory = '../Datafiles/ThaCarterV_Lyrics'\n",
    "\n",
    "for filename in os.listdir(directory):\n",
    "    file = directory+'/'+filename\n",
    "    f = open(file, 'r')\n",
    "    lyrics = f.read()\n",
    "    words = getWordList(lyrics)\n",
    "    seqtitle = filename[:-4]\n",
    "    seq = seqtitle.split('. ')[0]\n",
    "    title = seqtitle.split('. ')[1]\n",
    "    nwords = len(words)\n",
    "    nNwords = getPercentageNWords(words)\n",
    "    uniquewords = getUniqueWords(words)\n",
    "    df = df.append({'seq':seq, 'Song Title':title, 'Words':nwords, 'N-Words':nNwords, 'Unique Words':uniquewords}, ignore_index=True)\n",
    "    f.close()"
   ]
  },
  {
   "cell_type": "markdown",
   "metadata": {},
   "source": [
    "## Plotting & Displaying"
   ]
  },
  {
   "cell_type": "code",
   "execution_count": 68,
   "metadata": {
    "ExecuteTime": {
     "end_time": "2018-10-27T23:16:49.283441Z",
     "start_time": "2018-10-27T23:16:49.265440Z"
    },
    "collapsed": true
   },
   "outputs": [
    {
     "data": {
      "text/html": [
       "<div>\n",
       "<style>\n",
       "    .dataframe thead tr:only-child th {\n",
       "        text-align: right;\n",
       "    }\n",
       "\n",
       "    .dataframe thead th {\n",
       "        text-align: left;\n",
       "    }\n",
       "\n",
       "    .dataframe tbody tr th {\n",
       "        vertical-align: top;\n",
       "    }\n",
       "</style>\n",
       "<table border=\"1\" class=\"dataframe\">\n",
       "  <thead>\n",
       "    <tr style=\"text-align: right;\">\n",
       "      <th></th>\n",
       "      <th>Words</th>\n",
       "      <th>N-Words</th>\n",
       "      <th>Unique Words</th>\n",
       "    </tr>\n",
       "    <tr>\n",
       "      <th>Song Title</th>\n",
       "      <th></th>\n",
       "      <th></th>\n",
       "      <th></th>\n",
       "    </tr>\n",
       "  </thead>\n",
       "  <tbody>\n",
       "    <tr>\n",
       "      <th>Don't Cry</th>\n",
       "      <td>480</td>\n",
       "      <td>1</td>\n",
       "      <td>243</td>\n",
       "    </tr>\n",
       "    <tr>\n",
       "      <th>Dedicate</th>\n",
       "      <td>716</td>\n",
       "      <td>0</td>\n",
       "      <td>295</td>\n",
       "    </tr>\n",
       "    <tr>\n",
       "      <th>Uproar</th>\n",
       "      <td>582</td>\n",
       "      <td>0</td>\n",
       "      <td>239</td>\n",
       "    </tr>\n",
       "    <tr>\n",
       "      <th>Let It Fly</th>\n",
       "      <td>601</td>\n",
       "      <td>1</td>\n",
       "      <td>286</td>\n",
       "    </tr>\n",
       "    <tr>\n",
       "      <th>Can't Be Broken</th>\n",
       "      <td>489</td>\n",
       "      <td>0</td>\n",
       "      <td>215</td>\n",
       "    </tr>\n",
       "    <tr>\n",
       "      <th>Dark Side Of The Moon</th>\n",
       "      <td>485</td>\n",
       "      <td>0</td>\n",
       "      <td>169</td>\n",
       "    </tr>\n",
       "    <tr>\n",
       "      <th>Mona Lisa</th>\n",
       "      <td>1326</td>\n",
       "      <td>21</td>\n",
       "      <td>504</td>\n",
       "    </tr>\n",
       "    <tr>\n",
       "      <th>What About Me</th>\n",
       "      <td>444</td>\n",
       "      <td>0</td>\n",
       "      <td>145</td>\n",
       "    </tr>\n",
       "    <tr>\n",
       "      <th>Open Letter</th>\n",
       "      <td>720</td>\n",
       "      <td>8</td>\n",
       "      <td>358</td>\n",
       "    </tr>\n",
       "    <tr>\n",
       "      <th>Famous</th>\n",
       "      <td>608</td>\n",
       "      <td>0</td>\n",
       "      <td>238</td>\n",
       "    </tr>\n",
       "    <tr>\n",
       "      <th>Problems</th>\n",
       "      <td>715</td>\n",
       "      <td>26</td>\n",
       "      <td>256</td>\n",
       "    </tr>\n",
       "    <tr>\n",
       "      <th>Dope Niggaz</th>\n",
       "      <td>636</td>\n",
       "      <td>39</td>\n",
       "      <td>245</td>\n",
       "    </tr>\n",
       "    <tr>\n",
       "      <th>Hittas</th>\n",
       "      <td>535</td>\n",
       "      <td>6</td>\n",
       "      <td>252</td>\n",
       "    </tr>\n",
       "    <tr>\n",
       "      <th>Took His Time</th>\n",
       "      <td>751</td>\n",
       "      <td>0</td>\n",
       "      <td>261</td>\n",
       "    </tr>\n",
       "    <tr>\n",
       "      <th>Open Safe</th>\n",
       "      <td>746</td>\n",
       "      <td>68</td>\n",
       "      <td>306</td>\n",
       "    </tr>\n",
       "    <tr>\n",
       "      <th>Start This Shit Off Right</th>\n",
       "      <td>770</td>\n",
       "      <td>2</td>\n",
       "      <td>313</td>\n",
       "    </tr>\n",
       "    <tr>\n",
       "      <th>Demon</th>\n",
       "      <td>509</td>\n",
       "      <td>2</td>\n",
       "      <td>121</td>\n",
       "    </tr>\n",
       "    <tr>\n",
       "      <th>Mess</th>\n",
       "      <td>595</td>\n",
       "      <td>1</td>\n",
       "      <td>196</td>\n",
       "    </tr>\n",
       "    <tr>\n",
       "      <th>Dope New Gospel</th>\n",
       "      <td>577</td>\n",
       "      <td>1</td>\n",
       "      <td>239</td>\n",
       "    </tr>\n",
       "    <tr>\n",
       "      <th>Perfect Strangers</th>\n",
       "      <td>683</td>\n",
       "      <td>0</td>\n",
       "      <td>223</td>\n",
       "    </tr>\n",
       "    <tr>\n",
       "      <th>Used 2</th>\n",
       "      <td>754</td>\n",
       "      <td>20</td>\n",
       "      <td>254</td>\n",
       "    </tr>\n",
       "    <tr>\n",
       "      <th>Let It All Work Out</th>\n",
       "      <td>831</td>\n",
       "      <td>8</td>\n",
       "      <td>320</td>\n",
       "    </tr>\n",
       "  </tbody>\n",
       "</table>\n",
       "</div>"
      ],
      "text/plain": [
       "                          Words N-Words Unique Words\n",
       "Song Title                                          \n",
       "Don't Cry                   480       1          243\n",
       "Dedicate                    716       0          295\n",
       "Uproar                      582       0          239\n",
       "Let It Fly                  601       1          286\n",
       "Can't Be Broken             489       0          215\n",
       "Dark Side Of The Moon       485       0          169\n",
       "Mona Lisa                  1326      21          504\n",
       "What About Me               444       0          145\n",
       "Open Letter                 720       8          358\n",
       "Famous                      608       0          238\n",
       "Problems                    715      26          256\n",
       "Dope Niggaz                 636      39          245\n",
       "Hittas                      535       6          252\n",
       "Took His Time               751       0          261\n",
       "Open Safe                   746      68          306\n",
       "Start This Shit Off Right   770       2          313\n",
       "Demon                       509       2          121\n",
       "Mess                        595       1          196\n",
       "Dope New Gospel             577       1          239\n",
       "Perfect Strangers           683       0          223\n",
       "Used 2                      754      20          254\n",
       "Let It All Work Out         831       8          320"
      ]
     },
     "metadata": {},
     "output_type": "display_data"
    }
   ],
   "source": [
    "#Turn seq column into numeric datatype\n",
    "df[['seq']] = df[['seq']].apply(pd.to_numeric)\n",
    "#Sort by seq\n",
    "df.set_index('seq', inplace=True)\n",
    "df.sort_index(inplace=True)\n",
    "#Set title as index for easy plotting\n",
    "df.set_index('Song Title', inplace=True, drop=True)\n",
    "display(df)"
   ]
  },
  {
   "cell_type": "code",
   "execution_count": 87,
   "metadata": {
    "ExecuteTime": {
     "end_time": "2018-10-27T23:43:13.589495Z",
     "start_time": "2018-10-27T23:43:12.939458Z"
    }
   },
   "outputs": [
    {
     "data": {
      "image/png": "[encoded data removed]",
      "text/plain": [
       "<matplotlib.figure.Figure at 0xc5df438>"
      ]
     },
     "metadata": {},
     "output_type": "display_data"
    }
   ],
   "source": [
    "fig = plt.figure(figsize=(20,10))\n",
    "ax = fig.add_subplot(111)\n",
    "ax2 = ax.twinx()\n",
    "width=0.4\n",
    "df[['Words']].plot(kind='bar', color=['#D61800'], ax=ax, position=.5, width=width)\n",
    "df[['Unique Words']].plot(kind='bar', color=['#556DAC'], ax=ax, position=1, width=width)\n",
    "df[['N-Words']].plot(kind='bar', color=['#231B12'], ax=ax2, position=0, width=width)\n",
    "ax.legend(loc='upper left', prop={'size':15})\n",
    "ax2.legend(loc='upper right', prop={'size':15})\n",
    "plt.title('Lil Wayne - Tha Carter V', size=20)\n",
    "ax.set_xlabel('Song Title', size=15)\n",
    "plt.tight_layout()\n",
    "plt.savefig('png/ThaCarterViz.png')\n",
    "plt.show()"
   ]
  }
 ],
 "metadata": {
  "kernelspec": {
   "display_name": "Python 3",
   "language": "python",
   "name": "python3"
  },
  "language_info": {
   "codemirror_mode": {
    "name": "ipython",
    "version": 3
   },
   "file_extension": ".py",
   "mimetype": "text/x-python",
   "name": "python",
   "nbconvert_exporter": "python",
   "pygments_lexer": "ipython3",
   "version": "3.6.3"
  },
  "toc": {
   "base_numbering": 1,
   "nav_menu": {},
   "number_sections": true,
   "sideBar": true,
   "skip_h1_title": true,
   "title_cell": "Table of Contents",
   "title_sidebar": "Contents",
   "toc_cell": true,
   "toc_position": {},
   "toc_section_display": true,
   "toc_window_display": false
  }
 },
 "nbformat": 4,
 "nbformat_minor": 2
}
