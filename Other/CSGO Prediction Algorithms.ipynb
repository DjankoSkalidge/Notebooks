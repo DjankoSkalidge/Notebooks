{
 "cells": [
  {
   "cell_type": "markdown",
   "metadata": {
    "toc": true
   },
   "source": [
    "<h1>Table of Contents<span class=\"tocSkip\"></span></h1>\n",
    "<div class=\"toc\"><ul class=\"toc-item\"><li><span><a href=\"#Scraping-the-data\" data-toc-modified-id=\"Scraping-the-data-1\"><span class=\"toc-item-num\">1&nbsp;&nbsp;</span>Scraping the data</a></span><ul class=\"toc-item\"><li><span><a href=\"#Scraping-code\" data-toc-modified-id=\"Scraping-code-1.1\"><span class=\"toc-item-num\">1.1&nbsp;&nbsp;</span>Scraping code</a></span><ul class=\"toc-item\"><li><span><a href=\"#Numbers\" data-toc-modified-id=\"Numbers-1.1.1\"><span class=\"toc-item-num\">1.1.1&nbsp;&nbsp;</span>Numbers</a></span></li><li><span><a href=\"#Some-stats\" data-toc-modified-id=\"Some-stats-1.1.2\"><span class=\"toc-item-num\">1.1.2&nbsp;&nbsp;</span>Some stats</a></span></li></ul></li></ul></li><li><span><a href=\"#Predicting-an-upcoming-match-based-on-recent-results\" data-toc-modified-id=\"Predicting-an-upcoming-match-based-on-recent-results-2\"><span class=\"toc-item-num\">2&nbsp;&nbsp;</span>Predicting an upcoming match based on recent results</a></span><ul class=\"toc-item\"><li><span><a href=\"#Subset\" data-toc-modified-id=\"Subset-2.1\"><span class=\"toc-item-num\">2.1&nbsp;&nbsp;</span>Subset</a></span><ul class=\"toc-item\"><li><span><a href=\"#Subset-100-faceit\" data-toc-modified-id=\"Subset-100-faceit-2.1.1\"><span class=\"toc-item-num\">2.1.1&nbsp;&nbsp;</span>Subset 100 faceit</a></span></li><li><span><a href=\"#SubsetLastYear\" data-toc-modified-id=\"SubsetLastYear-2.1.2\"><span class=\"toc-item-num\">2.1.2&nbsp;&nbsp;</span>SubsetLastYear</a></span></li></ul></li><li><span><a href=\"#Representing-the-subset\" data-toc-modified-id=\"Representing-the-subset-2.2\"><span class=\"toc-item-num\">2.2&nbsp;&nbsp;</span>Representing the subset</a></span></li><li><span><a href=\"#Algorithms\" data-toc-modified-id=\"Algorithms-2.3\"><span class=\"toc-item-num\">2.3&nbsp;&nbsp;</span>Algorithms</a></span><ul class=\"toc-item\"><li><span><a href=\"#Simple-algorithm\" data-toc-modified-id=\"Simple-algorithm-2.3.1\"><span class=\"toc-item-num\">2.3.1&nbsp;&nbsp;</span>Simple algorithm</a></span></li><li><span><a href=\"#Less-simple-algorithm\" data-toc-modified-id=\"Less-simple-algorithm-2.3.2\"><span class=\"toc-item-num\">2.3.2&nbsp;&nbsp;</span>Less simple algorithm</a></span></li><li><span><a href=\"#Even-less-simple-algorithm\" data-toc-modified-id=\"Even-less-simple-algorithm-2.3.3\"><span class=\"toc-item-num\">2.3.3&nbsp;&nbsp;</span>Even less simple algorithm</a></span></li></ul></li><li><span><a href=\"#Gathering-data-to-analyze-the-algorithms\" data-toc-modified-id=\"Gathering-data-to-analyze-the-algorithms-2.4\"><span class=\"toc-item-num\">2.4&nbsp;&nbsp;</span>Gathering data to analyze the algorithms</a></span><ul class=\"toc-item\"><li><span><a href=\"#Error-functions\" data-toc-modified-id=\"Error-functions-2.4.1\"><span class=\"toc-item-num\">2.4.1&nbsp;&nbsp;</span>Error functions</a></span></li></ul></li></ul></li><li><span><a href=\"#Analyzing-the-algorithms\" data-toc-modified-id=\"Analyzing-the-algorithms-3\"><span class=\"toc-item-num\">3&nbsp;&nbsp;</span>Analyzing the algorithms</a></span><ul class=\"toc-item\"><li><span><a href=\"#Running-the-algorithms\" data-toc-modified-id=\"Running-the-algorithms-3.1\"><span class=\"toc-item-num\">3.1&nbsp;&nbsp;</span>Running the algorithms</a></span></li><li><span><a href=\"#Prediction-matrix\" data-toc-modified-id=\"Prediction-matrix-3.2\"><span class=\"toc-item-num\">3.2&nbsp;&nbsp;</span>Prediction matrix</a></span></li><li><span><a href=\"#Making-a-graph\" data-toc-modified-id=\"Making-a-graph-3.3\"><span class=\"toc-item-num\">3.3&nbsp;&nbsp;</span>Making a graph</a></span></li><li><span><a href=\"#Plotting-results\" data-toc-modified-id=\"Plotting-results-3.4\"><span class=\"toc-item-num\">3.4&nbsp;&nbsp;</span>Plotting results</a></span></li></ul></li><li><span><a href=\"#Using-the-normal-equation-to-combine-algorithms-and-features\" data-toc-modified-id=\"Using-the-normal-equation-to-combine-algorithms-and-features-4\"><span class=\"toc-item-num\">4&nbsp;&nbsp;</span>Using the normal equation to combine algorithms and features</a></span><ul class=\"toc-item\"><li><span><a href=\"#Design-Matrix\" data-toc-modified-id=\"Design-Matrix-4.1\"><span class=\"toc-item-num\">4.1&nbsp;&nbsp;</span>Design Matrix</a></span><ul class=\"toc-item\"><li><span><a href=\"#Features\" data-toc-modified-id=\"Features-4.1.1\"><span class=\"toc-item-num\">4.1.1&nbsp;&nbsp;</span>Features</a></span></li><li><span><a href=\"#Code\" data-toc-modified-id=\"Code-4.1.2\"><span class=\"toc-item-num\">4.1.2&nbsp;&nbsp;</span>Code</a></span></li></ul></li><li><span><a href=\"#Result-Vector\" data-toc-modified-id=\"Result-Vector-4.2\"><span class=\"toc-item-num\">4.2&nbsp;&nbsp;</span>Result Vector</a></span></li></ul></li></ul></div>"
   ]
  },
  {
   "cell_type": "markdown",
   "metadata": {},
   "source": [
    "# CS:GO Prediction Algorithm\n",
    "In this notebook I will develop multiple algorithms to predict the outcome of a cs:go match between two professional team based on recent results. I will also analyze these algorithms for different subsets.\n"
   ]
  },
  {
   "cell_type": "markdown",
   "metadata": {},
   "source": [
    "## Scraping the data\n",
    "The data consists of results of recent professional csgo matches. This data is available on www.hltv.org/results. The following information will be scraped:\n",
    " - Winner name & code\n",
    " - Loser name & code\n",
    " - Winner score\n",
    " - Loser score\n",
    " - Event name\n",
    " - Map of the match (map name or 'bo3'/'bo5')\n",
    " - Match code\n",
    "\n",
    "The data will be saved in a MySql database called 'csgo'. Below is the code used for the database creation:\n",
    "```sql\n",
    "use csgo;\n",
    "\n",
    "drop table if exists Results;\n",
    "drop table if exists Team;\n",
    "\n",
    "create table Team (\n",
    "name varchar(255) not null,\n",
    "code int not null,\n",
    "constraint pkTeam primary key (code)\n",
    ");\n",
    "\n",
    "create table Results (\n",
    "matchcode int not null,\n",
    "teamWin int not null,\n",
    "teamLose int not null,\n",
    "date date,\n",
    "scoreWin int not null,\n",
    "scoreLose int not null,\n",
    "map varchar(5) not null,\n",
    "event varchar(255) not null,\n",
    "stars int not null,\n",
    "constraint fkResultsW foreign key (teamWin) references Team(code),\n",
    "constraint fkResultsL foreign key (teamLose) references Team(code),\n",
    "constraint pkRestuls primary key (matchcode)\n",
    ");\n",
    "```\n",
    "Simple GET requests will be used to access the webpages source code. Beautifulsoup will be used to turn that source code into usable information. Mysql connector will be used to save that information in the MySql database.\n"
   ]
  },
  {
   "cell_type": "code",
   "execution_count": 106,
   "metadata": {
    "ExecuteTime": {
     "end_time": "2018-09-29T23:53:02.574361Z",
     "start_time": "2018-09-29T23:53:02.563361Z"
    },
    "code_folding": [
     0
    ],
    "tags": [
     "#sql"
    ]
   },
   "outputs": [
    {
     "name": "stdout",
     "output_type": "stream",
     "text": [
      "Succesfully connected to MySQL server, cursor initiated as cursor.\n"
     ]
    }
   ],
   "source": [
    "#creating a connection with the database\n",
    "import mysql.connector\n",
    "import mysql\n",
    "\n",
    "try:\n",
    "    cnx = mysql.connector.connect(user='root', password='root', host='127.0.0.1', database='csgo')\n",
    "    cursor = cnx.cursor()\n",
    "    print(\"Succesfully connected to MySQL server, cursor initiated as cursor.\")\n",
    "except (mysql.connector.errors.InterfaceError) as e:\n",
    "    print(\"Connection to MySQL server failed, cursor not created.\")\n",
    "    print(e)"
   ]
  },
  {
   "cell_type": "markdown",
   "metadata": {},
   "source": [
    "### Scraping code\n",
    "Below is the code used for the scraping. 385 pages will be scraped, and parsed by the function ```scrape page```. After every 50 request the browser will be reset. \n",
    "#### Numbers\n",
    " - 38544 Matches\n",
    "     - 22560 Best of ones\n",
    "     - 1397 Best of twos\n",
    "     - 15731 Best of threes\n",
    "     - 253 Best of fives\n",
    " - 4513 Teams\n",
    " \n",
    "#### Some stats\n",
    "**Top 10 Total wins**:\n",
    "1. NiP\t702\n",
    "2. fnatic\t592\n",
    "3. mousesports\t551\n",
    "4. Natus Vincere\t521\n",
    "5. Virtus.pro\t501\n",
    "6. Cloud9\t475\n",
    "7. Dignitas\t422\n",
    "8. HellRaisers\t407\n",
    "9. Liquid\t391\n",
    "10. ALTERNATE aTTaX\t388\n",
    "\n",
    "```sql\n",
    "select t.name, count(*) as wins \n",
    "from results r inner join team t on r.teamWin = t.code \n",
    "group by teamWin \n",
    "order by wins desc \n",
    "limit 10 ;\n",
    "```\n",
    "**Top 10 Total losses**:\n",
    "1. mousesports\t411\n",
    "2. Virtus.pro\t393\n",
    "3. Natus Vincere\t376\n",
    "4. HellRaisers\t339\n",
    "5. ALTERNATE aTTaX\t334\n",
    "6. NiP\t317\n",
    "7. fnatic\t311\n",
    "8. FlipSid3\t302\n",
    "9. Dignitas\t301\n",
    "10. EnVyUs\t288\n",
    "\n",
    "```sql\n",
    "select t.name, count(*) as losses \n",
    "from results r inner join team t on r.teamLose = t.code \n",
    "group by teamLose \n",
    "order by losses desc \n",
    "limit 10 ;\n",
    "```\n"
   ]
  },
  {
   "cell_type": "code",
   "execution_count": 101,
   "metadata": {
    "ExecuteTime": {
     "end_time": "2018-09-29T23:45:04.264004Z",
     "start_time": "2018-09-29T23:45:01.990874Z"
    },
    "code_folding": []
   },
   "outputs": [
    {
     "name": "stdout",
     "output_type": "stream",
     "text": [
      "0\n"
     ]
    }
   ],
   "source": [
    "#Scraping the data\n",
    "from bs4 import BeautifulSoup\n",
    "import requests\n",
    "import time\n",
    "\n",
    "def scrapePage(soup):\n",
    "    sublists = soup.find_all(\"div\", {\"class\": \"results-sublist\"})\n",
    "    \n",
    "    #for the first page when hltv displays feaured results\n",
    "    #for sublist in sublists[2:]:\n",
    "    for sublist in sublists:    \n",
    "        date = getDate(sublist.find(\"span\", {\"class\":\"standard-headline\"}).text.strip())\n",
    "        results = sublist.find_all(\"div\", {\"class\":\"result-con\"})\n",
    "        for result in results:\n",
    "            team1Name = result.find(\"div\", {\"class\":\"team1\"}).text.strip()\n",
    "            team1 = result.find(\"div\", {\"class\":\"team1\"}).find(\"img\", {\"class\":\"team-logo\"})['src'].split('/')[6]\n",
    "            team2Name = result.find(\"div\", {\"class\":\"team2\"}).text.strip()\n",
    "            team2 = result.find(\"div\", {\"class\":\"team2\"}).find(\"img\", {\"class\":\"team-logo\"})['src'].split('/')[6]      \n",
    "            eventName = result.find(\"span\", {\"class\":\"event-name\"}).text.strip()\n",
    "            mapName = result.find(\"div\", {\"class\":\"map-text\"}).text.strip()\n",
    "            matchCode = result.find(\"a\", {\"class\":\"a-reset\"})['href'].split('/')[2]\n",
    "            stars = len(result.find_all(\"i\", {\"class\":\"fa fa-star star\"}))\n",
    "            score1 = result.find(\"td\", {\"class\":\"result-score\"}).find_all(\"span\")[0].text.strip()\n",
    "            score2 = result.find(\"td\", {\"class\":\"result-score\"}).find_all(\"span\")[1].text.strip()\n",
    "            insertTeam1Args = (team1Name, team1)\n",
    "            insertTeam2Args = (team2Name, team2)\n",
    "            insertTeamQuery = (\"insert into Team \"\"values(%s, %s)\")\n",
    "            try:\n",
    "                cursor.execute(insertTeamQuery, insertTeam1Args)\n",
    "            except (mysql.connector.errors.IntegrityError) as e:\n",
    "                doNothing()\n",
    "            try:\n",
    "                cursor.execute(insertTeamQuery, insertTeam2Args)\n",
    "            except (mysql.connector.errors.IntegrityError) as e:\n",
    "                doNothing()\n",
    "            resultArgs = (matchCode, team1, team2, date, score1, score2, mapName, eventName, stars)\n",
    "            insertResultQuery = (\"insert into Results \"\"values(%s, %s, %s, %s, %s, %s, %s, %s, %s)\")\n",
    "            try:\n",
    "                cursor.execute(insertResultQuery, resultArgs)\n",
    "            except (mysql.connector.errors.IntegrityError) as e:\n",
    "                doNothing()\n",
    "            cnx.commit()\n",
    "\n",
    "months = [\"default\", \"January\", \"February\", \"March\", \"April\", \"May\", \"June\", \"July\", \"August\", \"September\", \"October\", \"November\", \"December\"]\n",
    "\n",
    "#string format = 'Results for September 10th 2018' returned format = '2018-09-10'\n",
    "def getDate(string):\n",
    "    splitString = string.split(' ')\n",
    "    year = str(splitString[4])\n",
    "    month = months.index(str(splitString[2]))\n",
    "    if (month < 10):\n",
    "        month = \"0\"+str(month)\n",
    "    day = int(splitString[3][:-2])\n",
    "    if (day < 10):\n",
    "        day = \"0\"+str(day)\n",
    "    return str(year) + \"-\" + str(month) + \"-\" + str(day)\n",
    "                                                   \n",
    "def doNothing():\n",
    "    return\n",
    "\n",
    "\n",
    "url = 'https://www.hltv.org/results?offset='\n",
    "for i in range(0,1):\n",
    "    time.sleep(1)  \n",
    "    scrapePage(BeautifulSoup(requests.get(url+str(i)+'00').content, \"lxml\"))"
   ]
  },
  {
   "cell_type": "markdown",
   "metadata": {},
   "source": [
    "## Predicting an upcoming match based on recent results\n",
    "\n",
    "### Subset\n",
    "\n",
    "#### Subset 100 faceit\n",
    "This subset will be selected as follows: The last 100 matches for each relevant team participating in the faceit major 2018. \n",
    "\n",
    "Teamlist:\n",
    " - Fnatic 4991\n",
    " - Complexity 5005\n",
    " - MiBr/SK 9215 / 6137\n",
    " - FaZe 6667\n",
    " - BiG 7532\n",
    " - G2 5995\n",
    " - Vega 6094\n",
    " - Astralis 6665\n",
    " - Cloud9 5752\n",
    " - Mousesports 4494\n",
    " - Na'vi 4608\n",
    " - NiP 4411\n",
    " - Tyloo 4863\n",
    " - Liquid 5973\n",
    " - Hellraisers 5310\n",
    " \n",
    "The SQL code used for making the selection:\n",
    "```sql\n",
    "use csgo;\n",
    "\n",
    "drop table if exists subset100faceit;\n",
    "drop procedure if exists addToSubset;\n",
    "\n",
    "create table subset100faceit(\n",
    "matchcode int not null,\n",
    "simpleAlgorithm int not null default 50,\n",
    "lessSimpleAlgorithm int not null default 50,\n",
    "constraint pk100 primary key (matchcode)\n",
    ");\n",
    "\n",
    "\n",
    "\n",
    "DELIMITER //\n",
    "create procedure addToSubset (in team int)\n",
    "begin\n",
    "\tinsert into subset100faceit(matchcode) \n",
    "\t\tselect (matchcode) \n",
    "        from results \n",
    "\t\twhere (teamWin = team or teamLose = team) and (not matchcode in (select matchcode from subset100faceit))\n",
    "        order by date desc limit 100;\n",
    "\t\n",
    "\n",
    "end //\n",
    "```\n",
    "\n",
    "#### SubsetLastYear\n",
    " This subset will be selected as follows: All matches from last year.\n",
    " \n",
    " The SQL query for selecting the subset:\n",
    " ```sql\n",
    " select r.matchcode, r.date, a.name, r.teamWin, b.name, r.teamLose, r.scoreWin, r.scoreLose, r.map, r.event, r.star \n",
    " from results r \n",
    " inner join team a on r.teamWin = a.code \n",
    " inner join team b on r.teamLose = b.code \n",
    " where date > DATE_SUB(CURRENT_DATE(), INTERVAL 375 DAY) \n",
    " order by date asc\n",
    " ```\n",
    " \n",
    " The results will be shuffled (for 50 % of the matches the winner and loser will swap position) so we have no idea who will win a match based on who is team1 and who is team2.\n",
    " Then the results will be saved to a csv file called subsetLastYear.csv\n",
    " \n",
    "\n",
    " \n",
    " \n",
    " \n",
    "\n"
   ]
  },
  {
   "cell_type": "code",
   "execution_count": 8,
   "metadata": {
    "code_folding": [
     0
    ],
    "collapsed": true,
    "tags": [
     "#2.1.1",
     "=>sql"
    ]
   },
   "outputs": [],
   "source": [
    "#Selecting the subset100faceit subset by calling the sql stored procedure for every team in the list\n",
    "\n",
    "teamlist = [4991, 5005, 9215, 6667, 7532, 5995, 6094, 6665, 5752, 4494, 4608, 4411, 4863, 5973, 5310]\n",
    "\n",
    "for team in teamlist:\n",
    "    try:\n",
    "        cursor.callproc(\"addToSubset\", [team])\n",
    "    except (mysql.connector.errors.IntegrityError) as e:\n",
    "        print(e)\n",
    "    \n",
    "cnx.commit()"
   ]
  },
  {
   "cell_type": "code",
   "execution_count": 107,
   "metadata": {
    "ExecuteTime": {
     "end_time": "2018-09-29T23:54:42.424073Z",
     "start_time": "2018-09-29T23:53:23.020531Z"
    },
    "code_folding": [],
    "collapsed": true,
    "tags": [
     "#2.1.2"
    ]
   },
   "outputs": [],
   "source": [
    "#creating the subsetLastYear csv file\n",
    "import random\n",
    "\n",
    "subsetLastYearQuery = \"select r.matchcode, r.date, a.name, r.team1, b.name, r.team2, r.score1, r.score2, r.map, r.event, r.star from results r inner join team a on r.team1 = a.code inner join team b on r.team2 = b.code where date > DATE_SUB(CURRENT_DATE(), INTERVAL 365 DAY) order by date asc\"\n",
    "cursor.execute(subsetLastYearQuery)\n",
    "results = cursor.fetchall()\n",
    "subsetLastYear = pd.DataFrame(columns = ['matchcode', 'date', 'team1', 'team1code', 'team2', 'team2code', 'score1', 'score2', 'map', 'event', 'star'])\n",
    "for result in results:\n",
    "    \n",
    "    if random.randint(0,100) < 50:\n",
    "        subsetLastYear = subsetLastYear.append({'matchcode' : result[0], 'date': result[1], 'team1': result[2], 'team1code': result[3], 'team2': result[4], 'team2code': result[5], 'score1': result[6], 'score2': result[7], 'map': result[8], 'event': result[9], 'star': result[10]}, ignore_index=True)\n",
    "    else:\n",
    "        subsetLastYear = subsetLastYear.append({'matchcode' : result[0], 'date': result[1], 'team1': result[4], 'team1code': result[5], 'team2': result[2], 'team2code': result[3], 'score1': result[7], 'score2': result[6], 'map': result[8], 'event': result[9], 'star': result[10]}, ignore_index=True)\n",
    "subsetLastYear.to_csv('subsetLastYear.csv')\n",
    "subsetLastYear\n",
    "cnx.close()"
   ]
  },
  {
   "cell_type": "code",
   "execution_count": 1,
   "metadata": {
    "ExecuteTime": {
     "end_time": "2018-09-30T23:07:18.836861Z",
     "start_time": "2018-09-30T23:07:18.405837Z"
    },
    "code_folding": [],
    "collapsed": true,
    "tags": [
     "#readSubsetLY"
    ]
   },
   "outputs": [],
   "source": [
    "#importing the subsetLastYear csv file\n",
    "import pandas as pd\n",
    "subsetLastYear = pd.read_csv(\"C:/Users/Jaco/Documents/Python Scripts/CSGO/subsetLastYear.csv\", encoding='latin1')\n",
    "#subsetLastYear = pd.read_csv(\"C:/Users/Djanko/Google Drive/Notebooks/CSGO/subsetLastYear.csv\", encoding='latin1')"
   ]
  },
  {
   "cell_type": "markdown",
   "metadata": {},
   "source": [
    " ### Representing the subset\n",
    " \n",
    " A directed weighted multigraph will be used to represent the data. Vertices will represent the teams, and edges will represent the cumulative results of the matches between them.\n",
    " Best of one matches will be translated to the '1-0/0-1' format. "
   ]
  },
  {
   "cell_type": "code",
   "execution_count": 10,
   "metadata": {
    "ExecuteTime": {
     "end_time": "2018-09-30T23:52:32.514075Z",
     "start_time": "2018-09-30T23:52:32.251060Z"
    },
    "code_folding": [],
    "collapsed": true,
    "tags": [
     "#2.2"
    ]
   },
   "outputs": [],
   "source": [
    "#Custom class structure for the graph\n",
    "import random\n",
    "\n",
    "#Vertex class\n",
    "class Vertex:\n",
    "    def __init__(self, name, code):\n",
    "        self.name = name\n",
    "        self.code = code\n",
    "        self.edges = dict()\n",
    "        self.results = []\n",
    "        \n",
    "    def getName(self):\n",
    "        return self.name\n",
    "    \n",
    "    def getCode(self):\n",
    "        return self.code\n",
    "    \n",
    "    def getEdge(self, opponent):\n",
    "        return self.edges[opponent]\n",
    "    \n",
    "    def getEdges(self):\n",
    "        return self.edges\n",
    "    \n",
    "    def exists(self, team):\n",
    "        return team in self.edges\n",
    "    \n",
    "    def winPercentageLastX(self, x):\n",
    "        if len(self.results) == 0:\n",
    "            return (50, 0)\n",
    "        result = 0\n",
    "        i = len(self.results) - 1\n",
    "        limit = i - x\n",
    "        n = 0\n",
    "        while i >= 0 and i > limit:\n",
    "            if self.results[i].Won():\n",
    "                result = result + 100\n",
    "            n = n +1\n",
    "            i = i -1\n",
    "        return (int(result/n), 1)\n",
    "    \n",
    "    def addResult(self, opponent, result):\n",
    "        self.results.append(result)\n",
    "        if opponent not in self.edges:\n",
    "            self.edges[opponent] = Edge(opponent, result)\n",
    "        else:\n",
    "            self.edges[opponent].addResult(result)\n",
    "        \n",
    "#Edge class        \n",
    "class Edge:\n",
    "    def __init__(self, opponent, result):\n",
    "        self.opponent = opponent\n",
    "        self.cumulativeResult = result.getScore()\n",
    "        self.results = [result]\n",
    "        \n",
    "    def getOpponent(self):\n",
    "        return self.opponent\n",
    "        \n",
    "        \n",
    "    def addResult(self, result):\n",
    "        self.cumulativeResult = self.cumulativeResult + result.getScore()\n",
    "        self.results.append(result)\n",
    "        \n",
    "    def getCumulativeResult(self):\n",
    "        return self.cumulativeResult\n",
    "    \n",
    "    def getCumulativeResultForRelevance(self, relevance):\n",
    "        result = 0\n",
    "        i = len(self.results) - 1\n",
    "        while i >= 0:\n",
    "            if self.results[i].getRelevance() < relevance:\n",
    "                result = result + self.results[i].getScore()\n",
    "                i = i - 1\n",
    "            else:\n",
    "                #Because the results are added in chronological order, once we find the first irrelevant result, we dont need to keep looking.\n",
    "                return result\n",
    "        return result\n",
    "    \n",
    "    def getResults(self):\n",
    "        return self.results\n",
    "    \n",
    "#Result class, relevance is (365 - daysSinceResult)\n",
    "class Result:\n",
    "    def __init__(self, score, relevance, win):\n",
    "        self.score = score\n",
    "        self.relevance = relevance\n",
    "        self.win = win\n",
    "        \n",
    "    def getScore(self):\n",
    "        return self.score\n",
    "    \n",
    "    def getRelevance(self):\n",
    "        return self.relevance\n",
    "    \n",
    "    def Won(self):\n",
    "        return self.win\n",
    "\n",
    "    \n",
    "        \n",
    "        \n",
    "        "
   ]
  },
  {
   "cell_type": "markdown",
   "metadata": {},
   "source": [
    "### Algorithms\n",
    "\n",
    "The algorithms will be implemented using the strategy pattern. All concrete algorithms inherit from the abstract class ```class AlgorithmAbstract(object)```. If an algorithm can't make a prediction because there are no recent results, it will predict a 50/50 chance for team1 to win. These predictions will be differentiated from 'real' predictions by the second return value.\n",
    "\n",
    " #### Simple algorithm\n",
    " \n",
    " Predict the chance team1 has to win the match based on the recent matches between the two teams.\n",
    " \n",
    " #### Less simple algorithm\n",
    " \n",
    " Predict the winner of a match based on the recent matches between the two teams and matches between common opponents.\n",
    " \n",
    " #### Even less simple algorithm\n",
    " \n",
    " Predict the winner of a match based on the recent matches between the two teams and \"match chains\" of lenght n between the two teams.\n",
    " A match chain is a path of length n in the graph starting at vertex teamA and ending at vertex teamB.\n"
   ]
  },
  {
   "cell_type": "code",
   "execution_count": 9,
   "metadata": {
    "ExecuteTime": {
     "end_time": "2018-09-30T23:52:32.249060Z",
     "start_time": "2018-09-30T23:52:32.016046Z"
    },
    "code_folding": [],
    "collapsed": true,
    "tags": [
     "#2.3"
    ]
   },
   "outputs": [],
   "source": [
    "#Algorithms\n",
    "import abc\n",
    "\n",
    "class AlgorithmAbstract(object):\n",
    "    _metaclass__ = abc.ABCMeta\n",
    "\n",
    "    @abc.abstractmethod\n",
    "    def predict(self, team1, team2, graph, relevance):\n",
    "        \"\"\"Required Method\"\"\"\n",
    "        \n",
    "    @abc.abstractmethod\n",
    "    def toString(self):\n",
    "        \"\"\"Required Method\"\"\"\n",
    "\n",
    "        \n",
    "class DumbAlgorithm(AlgorithmAbstract):\n",
    "    def predict(self, team1, team2, graph, relevance):\n",
    "        return random.randint(41, 60)\n",
    "        \n",
    "    def toString(self):\n",
    "        return 'simpleAlgorithm'\n",
    "        \n",
    "        \n",
    "class SimpleAlgorithm(AlgorithmAbstract):\n",
    "    #relevance is the amount of days passed since the match\n",
    "    #base the prediction on matches played in the last 300 days\n",
    "    def predict(self, team1, team2, graph, relevance):\n",
    "        if team2 in graph[team1].getEdges():\n",
    "            #all results in the graph will have a larger relevance number since results are added chronologically\n",
    "            team1wins = graph[team1].getEdge(team2).getCumulativeResultForRelevance(relevance + 200)\n",
    "            team2wins = graph[team2].getEdge(team1).getCumulativeResultForRelevance(relevance + 200)\n",
    "            #team1wins = graph[team1].getEdge(team2).getCumulativeResult()\n",
    "            #team2wins = graph[team2].getEdge(team1).getCumulativeResult()\n",
    "            if team1wins > 0:\n",
    "                return ((team1wins/(team1wins+team2wins))*100, 1)\n",
    "            elif team1wins == team2wins == 0:\n",
    "                return (50, 0)\n",
    "            else:\n",
    "                return (0, 1)\n",
    "        else:\n",
    "            return (50, 0)\n",
    "        \n",
    "    def toString(self):\n",
    "        return 'simpleAlgorithm'\n",
    "        \n",
    "class LessSimpleAlgorithm(AlgorithmAbstract):\n",
    "    def __init__(self):\n",
    "        self.simpleAlgorithm = SimpleAlgorithm()\n",
    "        \n",
    "    def predict(self, team1, team2, graph, relevance):\n",
    "        predictions = []\n",
    "        totalPaths = 0\n",
    "        headToHead = self.simpleAlgorithm.predict(team1, team2, graph, relevance)\n",
    "        if headToHead[1] == 1:\n",
    "            predictions.append(headToHead[0])\n",
    "            totalPaths = 1\n",
    "            \n",
    "        startEdges = graph[team1].getEdges()\n",
    "        for team in startEdges:         \n",
    "            if team != team2:\n",
    "                if graph[team].exists(team2):\n",
    "                    startToMiddle = self.simpleAlgorithm.predict(team1, team, graph, relevance)[0]\n",
    "                    middleToEnd = self.simpleAlgorithm.predict(team, team2, graph, relevance)[0]\n",
    "                    pathPrediction = (startToMiddle + middleToEnd) / 2\n",
    "                    predictions.append(pathPrediction)\n",
    "                    totalPaths = totalPaths + 1\n",
    "        if totalPaths == 1:\n",
    "            return (predictions[0], 0)\n",
    "        if len(predictions) > 0:          \n",
    "            return (sum(predictions)/len(predictions), 1)\n",
    "        else:\n",
    "            return (50, 0)\n",
    "    \n",
    "    def toString(self):\n",
    "        return 'lessSimpleAlgorithm'\n",
    "    \n",
    "class WinPercentageAlgorithm(AlgorithmAbstract):\n",
    "    def predict(self, team1, team2, graph, relevance):\n",
    "        team1per = graph[team1].winPercentageLastX(20)\n",
    "        team2per = graph[team2].winPercentageLastX(20)\n",
    "        if team1per[0] == team2per[0] == 0:\n",
    "            return (50, 0)\n",
    "        else:\n",
    "            return ((team1per[0] / (team1per[0] + team2per[0]))*100, 1 if team2per[1] == team1per[1] == 1 else 0)\n",
    "    \n",
    "    def toString(self):\n",
    "        return 'winPercentageAlgorithm'\n",
    "    "
   ]
  },
  {
   "cell_type": "markdown",
   "metadata": {},
   "source": [
    "\n",
    "\n",
    "### Gathering data to analyze the algorithms\n",
    "Every result in the subset will be added to the graph in chronological order. Before adding a result to the graph, a prediction will be made based on the results already in the set (past results since the adding will be done in chronological order). The predictions will be saved in a pandas dataframe of the subset. The algorithm can be measured by calculating the wrong prediction rate over time. \n",
    "The results of all of the error functions will also be saved for every prediction in the pandas dataframe.\n",
    "\n",
    "#### Error functions\n",
    "We are predicting the winner of a match, therefore, the simplest error function will be:\n",
    "```python\n",
    "def fEbinary(self, prediction, score1, score2):\n",
    "        if prediction < 51 and score1 > score2:\n",
    "            return 1\n",
    "        elif prediction >= 51 and score1 < score2:\n",
    "            return 1\n",
    "        else:\n",
    "            return 0\n",
    "```\n",
    "Another way to measure the error will be to quantify the \"wrongness\" of a prediction, that error function will be:\n",
    "```python\n",
    "def fEquantified(self, prediction, score1, score2):\n",
    "        if prediction < 51 and score1 > score2:\n",
    "            #predicting 30 for a winner will result in an 50 - 30 = 20 error\n",
    "            return 50 - prediction\n",
    "        elif prediction >= 51 and score1 < score2:\n",
    "            #predicting 80 for a loser will result in a 80 - 50 = 30 error\n",
    "            return prediction - 50\n",
    "        else:\n",
    "            return 0\n",
    "```"
   ]
  },
  {
   "cell_type": "code",
   "execution_count": null,
   "metadata": {
    "ExecuteTime": {
     "start_time": "2018-09-30T23:52:32.019Z"
    },
    "code_folding": [],
    "collapsed": true,
    "tags": [
     "#2.4",
     "=>2.3",
     "=>2.2"
    ]
   },
   "outputs": [],
   "source": [
    "#Class structure for running one algorithm on one dataset\n",
    "import datetime\n",
    "import pandas as pd\n",
    "import numpy as np\n",
    "\n",
    "\n",
    "            \n",
    "#Prediction class, takes a subset (name of table) and an algorithm(name of table column for results)\n",
    "class Training:\n",
    "    #Constructor\n",
    "    def __init__(self, subset, algorithm=SimpleAlgorithm()):\n",
    "        \n",
    "        self.subset = subset\n",
    "        self.algorithm = algorithm\n",
    "        self.graph = dict()\n",
    "        self.df = pd.DataFrame()\n",
    "    \n",
    "    #Getters & Setters\n",
    "    \n",
    "    def getDataFrame(self):\n",
    "        return self.df\n",
    "    \n",
    "    def getGraph(self):\n",
    "        return self.graph\n",
    "    \n",
    "    def getAlgorithm(self):\n",
    "        return self.algorithm\n",
    "    \n",
    "    #Error function based on percentage\n",
    "    def fEquantified(self, prediction, score1, score2):\n",
    "        if prediction < 51 and score1 > score2:\n",
    "            #predicting 30 for a winner will result in an 50 - 30 = 20 error\n",
    "            return 50 - prediction\n",
    "        elif prediction >= 51 and score1 < score2:\n",
    "            #predicting 80 for a loser will result in a 80 - 50 = 30 error\n",
    "            return prediction - 50\n",
    "        else:\n",
    "            return 0\n",
    "    #Error function based on win / lose   \n",
    "    def fEbinary(self, prediction, score1, score2):\n",
    "        if prediction < 51 and score1 > score2:\n",
    "            return 1\n",
    "        elif prediction >= 51 and score1 < score2:\n",
    "            return 1\n",
    "        else:\n",
    "            return 0\n",
    "    \n",
    "    #@p info = result\n",
    "    # both teams in the result will be added to the graph if they werent in it already\n",
    "    def addVertexes(self, info):\n",
    "        if info['team1code'] not in self.graph:\n",
    "            self.graph[info['team1code']] = Vertex(info['team1'], info['team1code'])\n",
    "        if info['team2code'] not in self.graph:\n",
    "            self.graph[info['team2code']] = Vertex(info['team2'], info['team2code'])\n",
    "      \n",
    "    \n",
    "         \n",
    "    #Function to add 1 result to the graph   \n",
    "    def addResult(self, info):\n",
    "        if info['score1']>14 or info['score2'] > 14:\n",
    "            score1 = 1 if info['score1'] > info['score2'] else 0\n",
    "            score2 = 1 - score1\n",
    "        else:\n",
    "            score1 = info['score1']\n",
    "            score2 = info['score2']\n",
    "            \n",
    "        #print(score1 + ' - ' score2)\n",
    "        if score1 > score2:\n",
    "            result1 = Result(score1, self.getDaysAgo(info['date']), 1)\n",
    "            result2 = Result(score2, self.getDaysAgo(info['date']), 0)\n",
    "        else:\n",
    "            result1 = Result(score1, self.getDaysAgo(info['date']), 0)\n",
    "            result2 = Result(score2, self.getDaysAgo(info['date']), 1)\n",
    "            \n",
    "        self.graph[info['team1code']].addResult(info['team2code'], result1)\n",
    "        self.graph[info['team2code']].addResult(info['team1code'], result2)\n",
    "        \n",
    "        return score1 > score2\n",
    "        \n",
    "    def getDaysAgo(self, date):\n",
    "        currentDate = datetime.date.today()\n",
    "        dateArray = date.split('-')\n",
    "        datePlayed = datetime.date(int(dateArray[0]), int(dateArray[1]), int(dateArray[2]))\n",
    "        daysAgo = currentDate - datePlayed\n",
    "        return int(daysAgo.days)\n",
    "    \n",
    "    def getLW(self, team1, team2, relevance):\n",
    "        if team2 in self.graph[team1].getEdges():\n",
    "            #all results in the graph will have a larger relevance number since results are added chronologically\n",
    "            team1wins = self.graph[team1].getEdge(team2).getCumulativeResultForRelevance(relevance + 200)\n",
    "            team2wins = self.graph[team2].getEdge(team1).getCumulativeResultForRelevance(relevance + 200)\n",
    "            #team1wins = graph[team1].getEdge(team2).getCumulativeResult()\n",
    "            #team2wins = graph[team2].getEdge(team1).getCumulativeResult()\n",
    "            return team1wins - team2wins\n",
    "        else:\n",
    "            return 0\n",
    "    \n",
    "    def createDesignMatrix(self):\n",
    "        LSAlgorithm = LessSimpleAlgorithm()\n",
    "        WPAlgorithm = WinPercentageAlgorithm()\n",
    "        LW = WP1 = WP2 = LSA = WPA = LSAA = LSA1 = LSA2 = []\n",
    "        y = []\n",
    "        X = []\n",
    "        for index, row in self.subset.iterrows():\n",
    "            self.addVertexes(row)\n",
    "            daysAgo = self.getDaysAgo(row['date'])\n",
    "            LSAr = LSAlgorithm.predict(row['team1code'], row['team2code'], self.graph, daysAgo)\n",
    "            if LSAr[1] == 1:\n",
    "                y.append(int(row['score1'] > row['score2'])*100)\n",
    "                LSA.append(LSAr[0])\n",
    "                LW.append(self.getLW(row['team1code'], row['team2code'], daysAgo))\n",
    "                WP1r = self.graph[row['team1code']].winPercentageLastX(20)\n",
    "                WP2r = self.graph[row['team2code']].winPercentageLastX(20)\n",
    "                WP1.append(WP1r)\n",
    "                WP2.append(WP2r)\n",
    "                WPAr = WPAlgorithm.predict(row['team1code'], row['team2code'], self.graph, daysAgo)[0]\n",
    "                WPA.append(WPAr)\n",
    "                LSAA.append(int(LSAr[0])*WPAr)\n",
    "                LSA1.append(int(LSAr[0])*WP1r)\n",
    "                LSA2.append(int(LSAr[0])*WP2r)\n",
    "                X.append([1, LW, WP1, WP2, LSA, WPA, LSAA, LSA1, LSA2])\n",
    "            result = self.addResult(row)\n",
    "        #X = [np.zeros(len(LW)), LW, WP1, WP2, LSA, WPA, LSAA, LSA1, LSA2]\n",
    "        return (X, y)\n",
    "    \n",
    "    \n",
    "    \n",
    "    #Add the subset to the prediction graph one by one    \n",
    "    def train(self):\n",
    "        self.df = pd.DataFrame(columns = ['prediction', 'result', 'sumE', 'binaryE','sumQuantifiedE', 'quantifiedE', 'realPrediction', 'stars'])\n",
    "\n",
    "        sumE = 0\n",
    "        sumQuantifiedE = 0\n",
    "        for index, row in self.subset.iterrows():\n",
    "            self.addVertexes(row)\n",
    "            daysAgo = self.getDaysAgo(row['date'])\n",
    "            predictionTeam1wint = self.algorithm.predict(row['team1code'], row['team2code'], self.graph, daysAgo)\n",
    "            Eb = self.fEbinary(predictionTeam1wint[0], row['score1'], row['score2'])\n",
    "            Eq = self.fEquantified(predictionTeam1wint[0], row['score1'], row['score2'])\n",
    "            sumQuantifiedE = sumQuantifiedE + Eq\n",
    "            sumE = sumE + Eb\n",
    "            result = self.addResult(row)\n",
    "            self.df = self.df.append({'prediction': predictionTeam1wint[0], 'result': result, 'sumE': sumE, 'binaryE': Eb, 'sumQuantifiedE': sumQuantifiedE, 'quantifiedE':Eq, 'realPrediction': predictionTeam1wint[1], 'stars': row['star']}, ignore_index=True)\n",
    "            \n",
    "            \n",
    "            \n"
   ]
  },
  {
   "cell_type": "markdown",
   "metadata": {},
   "source": [
    "## Analyzing the algorithms\n",
    "### Running the algorithms\n",
    "The code below will run the algorithms and save the results per algorithm in a Dataframe."
   ]
  },
  {
   "cell_type": "code",
   "execution_count": 112,
   "metadata": {
    "ExecuteTime": {
     "end_time": "2018-09-29T23:57:51.030860Z",
     "start_time": "2018-09-29T23:55:50.427962Z"
    },
    "code_folding": [],
    "collapsed": true,
    "tags": [
     "=>2.4"
    ]
   },
   "outputs": [],
   "source": [
    "#Run the simple and less simple algorithms\n",
    "# Execution Time = 2m1s\n",
    "import matplotlib.pyplot as plt\n",
    "import numpy as np\n",
    "\n",
    "\n",
    "#Simple algorithm\n",
    "trainingSimple = Training(subsetLastYear, SimpleAlgorithm())\n",
    "trainingSimple.train()\n",
    "simpledf = trainingSimple.getDataFrame()\n",
    "\n",
    "#Less Simple algorithm\n",
    "trainingLessSimple = Training(subsetLastYear, LessSimpleAlgorithm())\n",
    "trainingLessSimple.train()\n",
    "lsimpledf = trainingLessSimple.getDataFrame()"
   ]
  },
  {
   "cell_type": "code",
   "execution_count": 138,
   "metadata": {
    "ExecuteTime": {
     "end_time": "2018-09-30T01:17:06.125836Z",
     "start_time": "2018-09-30T01:16:09.119576Z"
    },
    "collapsed": true,
    "tags": [
     "=>2.4"
    ]
   },
   "outputs": [],
   "source": [
    "#Run Win Percentage Algorithm\n",
    "# Execution Time = 57s\n",
    "trainingWinPercentage = Training(subsetLastYear, WinPercentageAlgorithm())\n",
    "trainingWinPercentage.train()\n",
    "winPercentagedf = trainingWinPercentage.getDataFrame()"
   ]
  },
  {
   "cell_type": "markdown",
   "metadata": {},
   "source": [
    "### Prediction matrix\n",
    "Below is the code to print a prediction matrix for a given set of teams"
   ]
  },
  {
   "cell_type": "code",
   "execution_count": 82,
   "metadata": {
    "ExecuteTime": {
     "end_time": "2018-09-29T22:08:27.443906Z",
     "start_time": "2018-09-29T22:08:27.188891Z"
    },
    "code_folding": [
     0
    ],
    "collapsed": true
   },
   "outputs": [
    {
     "name": "stdout",
     "output_type": "stream",
     "text": [
      "Prediction Matrix for Simple Algorithm\n",
      "   ,   5005,   9215,   6667,   7532,   5995,   6094,   6665,   5752,   4494,   4608,   4411,   4863,   5973,   5310,   4991\n",
      "5005,   0.0,   50.0,   50.0,   100.0,   50.0,   100.0,   0.0,   25.0,   50.0,   50.0,   50.0,   50.0,   0.0,   50.0,   50.0\n",
      "9215,   50.0,   0.0,   0.0,   33.3,   50.0,   50.0,   0.0,   100.0,   100.0,   50.0,   50.0,   50.0,   0.0,   100.0,   50.0\n",
      "6667,   50.0,   100.0,   0.0,   33.3,   75.0,   50.0,   27.3,   60.0,   60.0,   0.0,   25.0,   66.7,   66.7,   75.0,   54.5\n",
      "7532,   0.0,   66.7,   66.7,   0.0,   100.0,   0.0,   50.0,   50.0,   50.0,   25.0,   50.0,   0.0,   20.0,   0.0,   33.3\n",
      "5995,   50.0,   50.0,   25.0,   0.0,   0.0,   50.0,   0.0,   0.0,   44.4,   66.7,   50.0,   50.0,   50.0,   50.0,   60.0\n",
      "6094,   0.0,   50.0,   50.0,   100.0,   50.0,   0.0,   50.0,   50.0,   50.0,   50.0,   50.0,   0.0,   0.0,   50.0,   50.0\n",
      "6665,   100.0,   100.0,   72.7,   50.0,   100.0,   50.0,   0.0,   100.0,   77.8,   42.9,   57.1,   66.7,   87.5,   50.0,   100.0\n",
      "5752,   75.0,   0.0,   40.0,   50.0,   100.0,   50.0,   0.0,   0.0,   50.0,   0.0,   100.0,   0.0,   50.0,   50.0,   25.0\n",
      "4494,   50.0,   0.0,   40.0,   50.0,   55.6,   50.0,   22.2,   50.0,   0.0,   38.5,   40.0,   100.0,   50.0,   83.3,   60.0\n",
      "4608,   50.0,   50.0,   100.0,   75.0,   33.3,   50.0,   57.1,   100.0,   61.5,   0.0,   40.0,   0.0,   0.0,   50.0,   80.0\n",
      "4411,   50.0,   50.0,   75.0,   50.0,   50.0,   50.0,   42.9,   0.0,   60.0,   60.0,   0.0,   66.7,   50.0,   75.0,   20.0\n",
      "4863,   50.0,   50.0,   33.3,   100.0,   50.0,   100.0,   33.3,   100.0,   0.0,   100.0,   33.3,   0.0,   50.0,   50.0,   0.0\n",
      "5973,   100.0,   100.0,   33.3,   80.0,   50.0,   100.0,   12.5,   50.0,   50.0,   100.0,   50.0,   50.0,   0.0,   100.0,   100.0\n",
      "5310,   50.0,   0.0,   25.0,   100.0,   50.0,   50.0,   50.0,   50.0,   16.7,   50.0,   25.0,   50.0,   0.0,   0.0,   50.0\n",
      "4991,   50.0,   50.0,   45.5,   66.7,   40.0,   50.0,   0.0,   75.0,   40.0,   20.0,   80.0,   100.0,   0.0,   50.0,   0.0\n",
      "Prediction Matrix for Less Simple Algorithm\n",
      "   ,   5005,   9215,   6667,   7532,   5995,   6094,   6665,   5752,   4494,   4608,   4411,   4863,   5973,   5310,   4991\n",
      "5005,   0.0,   44.2,   37.9,   44.0,   49.8,   52.9,   25.2,   48.2,   42.8,   36.7,   39.8,   40.5,   40.9,   50.8,   45.7\n",
      "9215,   55.8,   0.0,   49.7,   58.6,   65.0,   60.0,   42.3,   55.3,   54.4,   47.8,   51.2,   63.1,   48.6,   59.9,   54.5\n",
      "6667,   62.1,   50.3,   0.0,   52.8,   54.8,   54.9,   42.3,   55.7,   50.5,   48.4,   52.8,   51.7,   47.7,   57.0,   55.3\n",
      "7532,   56.0,   41.4,   47.2,   0.0,   53.4,   47.8,   36.8,   52.2,   46.8,   45.2,   45.2,   47.5,   43.9,   49.2,   51.6\n",
      "5995,   50.2,   35.0,   45.2,   46.6,   0.0,   47.5,   36.9,   47.1,   44.7,   43.0,   46.6,   49.0,   41.9,   52.6,   49.8\n",
      "6094,   47.1,   40.0,   45.1,   52.2,   52.5,   0.0,   32.7,   47.0,   44.1,   41.8,   44.2,   41.5,   36.6,   40.4,   45.4\n",
      "6665,   74.8,   57.7,   57.7,   63.2,   63.1,   67.3,   0.0,   64.2,   60.0,   57.6,   60.4,   62.7,   57.5,   64.7,   61.2\n",
      "5752,   51.8,   44.7,   44.3,   47.8,   52.9,   53.0,   35.8,   0.0,   45.9,   43.6,   46.5,   50.9,   44.2,   53.6,   48.5\n",
      "4494,   57.2,   45.6,   49.5,   53.2,   55.3,   55.9,   40.0,   54.1,   0.0,   48.6,   52.0,   56.7,   45.7,   55.2,   54.3\n",
      "4608,   63.3,   52.2,   51.6,   54.8,   57.0,   58.2,   42.4,   56.4,   51.4,   0.0,   51.3,   55.6,   50.7,   56.6,   53.5\n",
      "4411,   60.2,   48.8,   47.2,   54.8,   53.4,   55.8,   39.6,   53.5,   48.0,   48.7,   0.0,   57.2,   50.7,   54.2,   52.7\n",
      "4863,   59.5,   36.9,   48.3,   52.5,   51.0,   58.5,   37.3,   49.1,   43.3,   44.4,   42.8,   0.0,   42.7,   49.7,   47.0\n",
      "5973,   59.1,   51.4,   52.3,   56.1,   58.1,   63.4,   42.5,   55.8,   54.3,   49.3,   49.3,   57.3,   0.0,   60.6,   54.9\n",
      "5310,   49.2,   40.1,   43.0,   50.8,   47.4,   59.6,   35.3,   46.4,   44.8,   43.4,   45.8,   50.3,   39.4,   0.0,   49.2\n",
      "4991,   54.3,   45.5,   44.7,   48.4,   50.2,   54.6,   38.8,   51.5,   45.7,   46.5,   47.3,   53.0,   45.1,   50.8,   0.0\n"
     ]
    }
   ],
   "source": [
    "#Creating a prediction matrix\n",
    "class TrainingResults:\n",
    "    def __init__(self, graph, teamlist, algorithm):\n",
    "        self.graph = graph\n",
    "        self.teamlist = teamlist\n",
    "        self.algorithm = algorithm\n",
    "        self.adjMatrix = self.fillAdjecencyMatrix()\n",
    "        self.predictionMatrix = self.fillPredictionMatrix()\n",
    "        \n",
    "    def fillAdjecencyMatrix(self):\n",
    "        matrix = [[0 for i in range(len(self.teamlist))] for j in range(len(self.teamlist))]\n",
    "        for i in range(0, len(self.teamlist)):\n",
    "            for j in range(i+1, len(self.teamlist)):\n",
    "                if i is not j:\n",
    "                    if self.teamlist[j] in self.graph[self.teamlist[i]].getEdges():\n",
    "                        edge = self.graph[self.teamlist[i]].getEdge(self.teamlist[j])\n",
    "                        matrix[i][j] = edge.getCumulativeResult()\n",
    "                        matrix[j][i] = self.graph[self.teamlist[j]].getEdge(self.teamlist[i]).getCumulativeResult()\n",
    "                    else:\n",
    "                        matrix[i][j] = 0\n",
    "                        matrix[j][i] = 0\n",
    "        return matrix\n",
    "                \n",
    "                \n",
    "    def fillPredictionMatrix(self):\n",
    "        matrix = [[0 for i in range(len(self.teamlist))] for j in range(len(self.teamlist))]\n",
    "        for i in range(0, len(self.teamlist)):\n",
    "            for j in range(i+1, len(self.teamlist)):\n",
    "                #relevance is 0 since we want to predict what will happen to a match played today.\n",
    "                matrix[i][j] = self.algorithm.predict(self.teamlist[i], self.teamlist[j], self.graph, 0)[0]\n",
    "                matrix[j][i] = self.algorithm.predict(self.teamlist[j], self.teamlist[i], self.graph, 0)[0]\n",
    "        return matrix\n",
    "            \n",
    "    def printPredictionMatrix(self):\n",
    "        teams = \"   \"\n",
    "        for i in range(0, len(self.teamlist)):\n",
    "            teams = teams + \",   \" + str(self.teamlist[i])\n",
    "        print(teams)\n",
    "        for i in range(0, len(self.teamlist)):\n",
    "            string = str(self.teamlist[i])\n",
    "            for j in range(0, len(self.teamlist)):\n",
    "                string = string + \",   \"+ str(\"{0:.1f}\".format(self.predictionMatrix[i][j]))\n",
    "            print(string)\n",
    "\n",
    "            \n",
    "\n",
    "#for the following teams:\n",
    "teamList = [ 5005, 9215, 6667, 7532, 5995, 6094, 6665, 5752, 4494, 4608, 4411, 4863, 5973, 5310, 4991]\n",
    "\n",
    "#Print for Simple\n",
    "print(\"Prediction Matrix for Simple Algorithm\")\n",
    "trainingResultsSimple = TrainingResults(trainingSimple.getGraph(), teamList, trainingSimple.getAlgorithm())\n",
    "trainingResultsSimple.printPredictionMatrix()\n",
    "\n",
    "#Print for Less Simple\n",
    "print(\"Prediction Matrix for Less Simple Algorithm\")\n",
    "trainingResultsLessSimple = TrainingResults(trainingLessSimple.getGraph(), teamList, trainingLessSimple.getAlgorithm())\n",
    "trainingResultsLessSimple.printPredictionMatrix()\n"
   ]
  },
  {
   "cell_type": "markdown",
   "metadata": {},
   "source": [
    "### Making a graph\n",
    "It is possible to print only part of the total graph. Below is the code to construct a networkX graph consisting only of the vertices in the teamlist and the edges between them. The graph will be exported as a .dot file. The labels on the edges represent the cumulative score against the team represented by the end node of the edge.\n",
    "\n"
   ]
  },
  {
   "cell_type": "code",
   "execution_count": 83,
   "metadata": {
    "ExecuteTime": {
     "end_time": "2018-09-29T22:08:40.376646Z",
     "start_time": "2018-09-29T22:08:36.045398Z"
    },
    "code_folding": [
     0
    ],
    "collapsed": true
   },
   "outputs": [],
   "source": [
    "#Creating a graph and saving it as dot file\n",
    "import networkx as nx\n",
    "import graphviz\n",
    "#import pythongraphviz\n",
    "from networkx.drawing.nx_agraph import write_dot\n",
    "from networkx.drawing.nx_pydot import write_dot\n",
    "\n",
    "G = nx.MultiDiGraph()\n",
    "teamList = [ 5005, 9215, 6667, 7532, 5995, 6094, 6665, 5752, 4494, 4608, 4411, 4863, 5973, 5310, 4991]\n",
    "graph = trainingSimple.getGraph()\n",
    "for teamcode1 in teamList:\n",
    "    for teamcode2 in teamList:\n",
    "        if teamcode1 != teamcode2:\n",
    "            if teamcode2 in graph[teamcode1].getEdges():\n",
    "                G.add_edge(teamcode1, teamcode2, weight=graph[teamcode1].getEdge(teamcode2).getCumulativeResult())\n",
    "                \n",
    "write_dot(G,'partialGraph.dot')\n"
   ]
  },
  {
   "cell_type": "markdown",
   "metadata": {},
   "source": [
    "### Plotting results\n",
    " - Plot A: Binary error over time\n",
    "  - A1: For all results\n",
    "  - A2: For non guesses\n",
    " - Plot B: Quantified error over time\n",
    "  - B1: For all results\n",
    "  - B2: For non guesses"
   ]
  },
  {
   "cell_type": "code",
   "execution_count": 139,
   "metadata": {
    "ExecuteTime": {
     "end_time": "2018-09-30T01:17:50.729387Z",
     "start_time": "2018-09-30T01:17:47.272190Z"
    },
    "code_folding": [
     0
    ],
    "collapsed": true
   },
   "outputs": [
    {
     "data": {
      "image/png": "[encoded data removed]",
      "text/plain": [
       "<matplotlib.figure.Figure at 0x1153a6a0>"
      ]
     },
     "metadata": {},
     "output_type": "display_data"
    },
    {
     "data": {
      "image/png": "[encoded data removed]",
      "text/plain": [
       "<matplotlib.figure.Figure at 0x10c390f0>"
      ]
     },
     "metadata": {},
     "output_type": "display_data"
    }
   ],
   "source": [
    "#Plot A1 & B1\n",
    "# Execution Time = 3.5\n",
    "#Plot A1\n",
    "xa = np.arange(simpledf['sumE'].size)\n",
    "plt.plot(xa * 0.5)\n",
    "plt.plot(simpledf['sumE'])\n",
    "plt.plot(lsimpledf['sumE'])\n",
    "plt.plot(winPercentagedf['sumE'])\n",
    "plt.legend(['0.5x', 'Simple Algorithm', 'Less Simple Algorithm', 'Win Percentage Algorithm'], loc='upper left')\n",
    "plt.ylabel('Wrong Predictions')\n",
    "plt.xlabel('Total Predictions')\n",
    "plt.title('Plot A1 for all algorithms')\n",
    "plt.savefig('errorOfAlgorithms.png', dpi=1000)\n",
    "plt.show()\n",
    "\n",
    "#Plot B1\n",
    "xb = np.arange(simpledf['sumE'].size)\n",
    "plt.plot(xb * 12.5)\n",
    "plt.plot(simpledf['sumQuantifiedE'])\n",
    "plt.plot(lsimpledf['sumQuantifiedE'])\n",
    "plt.plot(winPercentagedf['sumQuantifiedE'])\n",
    "plt.legend(['12.5x', 'Simple Algorithm', 'Less Simple Algorithm', 'Win Percentage Algorithm'], loc='upper left')\n",
    "plt.ylabel('Total Quantified Error')\n",
    "plt.xlabel('Total Predictions')\n",
    "plt.title('Plot B1 for all algorithms')\n",
    "plt.savefig('errorOfAlgorithms.png', dpi=1000)\n",
    "plt.show()"
   ]
  },
  {
   "cell_type": "markdown",
   "metadata": {},
   "source": [
    "Filter out guesses"
   ]
  },
  {
   "cell_type": "code",
   "execution_count": 141,
   "metadata": {
    "ExecuteTime": {
     "end_time": "2018-09-30T01:21:16.258143Z",
     "start_time": "2018-09-30T01:20:58.769143Z"
    },
    "code_folding": [
     0
    ],
    "collapsed": true
   },
   "outputs": [],
   "source": [
    "#Filter out guesses\n",
    "# Execution Time = 17.5s\n",
    "nonguessedlsimpledf = lsimpledf.query(\"realPrediction == 1\", inplace=False).copy()\n",
    "nonguessedlsimpledf.reset_index(inplace=True, drop=True)\n",
    "nonguessedlsimpledf.drop(['sumE', 'sumQuantifiedE'], axis=1, inplace=True)\n",
    "nonguessedlsimpledf['ngSumE'] = nonguessedlsimpledf.index.map(lambda x: (nonguessedlsimpledf['binaryE'][:x+1]).sum())\n",
    "nonguessedlsimpledf['ngSumQuantifiedE'] = nonguessedlsimpledf.index.map(lambda x: (nonguessedlsimpledf['quantifiedE'][:x+1]).sum())\n",
    "#display(nonguessedlsimpledf)\n",
    "\n",
    "nonguessedsimpledf = simpledf.query(\"realPrediction == 1\", inplace=False).copy()\n",
    "nonguessedsimpledf.reset_index(inplace=True, drop=True)\n",
    "nonguessedsimpledf.drop(['sumE', 'sumQuantifiedE'], axis=1, inplace=True)\n",
    "nonguessedsimpledf['ngSumE'] = nonguessedsimpledf.index.map(lambda x: (nonguessedsimpledf['binaryE'][:x+1]).sum())\n",
    "nonguessedsimpledf['ngSumQuantifiedE'] = nonguessedsimpledf.index.map(lambda x: (nonguessedsimpledf['quantifiedE'][:x+1]).sum())\n",
    "#display(nonguessedsimpledf)\n",
    "\n",
    "nonguessedwpdf = winPercentagedf.query(\"realPrediction == 1\", inplace=False).copy()\n",
    "nonguessedwpdf.reset_index(inplace=True, drop=True)\n",
    "nonguessedwpdf.drop(['sumE', 'sumQuantifiedE'], axis=1, inplace=True)\n",
    "nonguessedwpdf['ngSumE'] = nonguessedwpdf.index.map(lambda x: (nonguessedwpdf['binaryE'][:x+1]).sum())\n",
    "nonguessedwpdf['ngSumQuantifiedE'] = nonguessedwpdf.index.map(lambda x: (nonguessedwpdf['quantifiedE'][:x+1]).sum())\n",
    "\n",
    "\n"
   ]
  },
  {
   "cell_type": "code",
   "execution_count": 142,
   "metadata": {
    "ExecuteTime": {
     "end_time": "2018-09-30T01:22:46.196287Z",
     "start_time": "2018-09-30T01:22:42.806093Z"
    },
    "code_folding": [],
    "collapsed": true
   },
   "outputs": [
    {
     "data": {
      "image/png": "[encoded data removed]",
      "text/plain": [
       "<matplotlib.figure.Figure at 0x1160d748>"
      ]
     },
     "metadata": {},
     "output_type": "display_data"
    },
    {
     "data": {
      "image/png": "[encoded data removed]",
      "text/plain": [
       "<matplotlib.figure.Figure at 0x11c59550>"
      ]
     },
     "metadata": {},
     "output_type": "display_data"
    }
   ],
   "source": [
    "#Plot A2 & B2\n",
    "# Execution Time = 3.4s\n",
    "#Plot A2\n",
    "x = np.arange(nonguessedlsimpledf['ngSumE'].size)\n",
    "plt.plot(x * 0.5)\n",
    "plt.plot(nonguessedsimpledf['ngSumE'])\n",
    "plt.plot(nonguessedlsimpledf['ngSumE'])\n",
    "plt.plot(nonguessedwpdf['ngSumE'])\n",
    "plt.legend(['0.5x', 'Simple Algorithm', 'Less Simple Algorithm', 'Win Percentage Algorithm'], loc='upper left')\n",
    "plt.ylabel('Total Wrong Predictions')\n",
    "plt.xlabel('Total Predictions')\n",
    "plt.title('Plot A2 for all algorithms')\n",
    "plt.savefig('errorOfAlgorithmsNG.png', dpi=1000)\n",
    "plt.show()\n",
    "\n",
    "#Plot B2\n",
    "xb = np.arange(nonguessedlsimpledf['ngSumE'].size)\n",
    "plt.plot(xb * 12.5)\n",
    "plt.plot(nonguessedsimpledf['ngSumQuantifiedE'])\n",
    "plt.plot(nonguessedlsimpledf['ngSumQuantifiedE'])\n",
    "plt.plot(nonguessedwpdf['ngSumQuantifiedE'])\n",
    "plt.legend(['12.5x', 'Simple Algorithm', 'Less Simple Algorithm', 'Win Percentage Algorithm'], loc='upper left')\n",
    "plt.ylabel('Total Quantified Error')\n",
    "plt.xlabel('Total Predictions')\n",
    "plt.title('Plot B2 for all algorithms')\n",
    "plt.savefig('qErrorOfAlgorithmsNG.png', dpi=1000)\n",
    "plt.show()"
   ]
  },
  {
   "cell_type": "markdown",
   "metadata": {},
   "source": [
    "## Using the normal equation to combine algorithms and features\n",
    "### Design Matrix\n",
    "#### Features\n",
    " - Wins - Losses (WL)\n",
    " - Win% team 1 (WP1)\n",
    " - Win% team 2 (WP2)\n",
    " - Less Simple Algorithm (LSA)\n",
    " - Win Percentage Algorithm (WPA)\n",
    " - LSA x WPA\n",
    " - LSA x WP1\n",
    " - LSA x WP2\n",
    " \n",
    "#### Code\n",
    "```python\n",
    "X = [np.zeros(len(LW)), LW, WP1, WP2, LSA, WPA, LSAA, LSA1, LSA2]\n",
    "```\n",
    " \n",
    "### Result Vector\n",
    "We are predicting the chance team 1 has of winning, so the result vector will consist of 100s and zeros. 100 for a team 1 win, 0 for a team 1 loss."
   ]
  },
  {
   "cell_type": "code",
   "execution_count": null,
   "metadata": {
    "ExecuteTime": {
     "start_time": "2018-09-30T23:52:32.027Z"
    },
    "collapsed": true,
    "tags": [
     "=>2.4"
    ]
   },
   "outputs": [],
   "source": [
    "#Calculate Theta\n",
    "#make sure the subset is read\n",
    "designMatrixTraining = Training(subsetLastYear)\n",
    "(X, y) = designMatrixTraining.createDesignMatrix()\n",
    "\n",
    "delimiter = int(.8*len(X))\n",
    "XTrain = X[:delimiter]\n",
    "XTest = X[delimiter:]\n",
    "yTrain = y[:delimiter]\n",
    "yTest = y[delimiter:]\n",
    "\n",
    "#I think this is wrong:\n",
    "#XTrain = np.transpose(XTrain)\n",
    "#yTrain = np.transpose(yTrain)\n",
    "#XTest = np.transpose(XTest)\n",
    "#yTest = np.transpose(yTest)\n",
    "\n",
    "print(len(y), len(X), len(X) == len(y))\n",
    "print(len(yTrain), len(XTrain), len(XTrain) == len(yTrain))\n",
    "print(len(yTest), len(XTest), len(XTest) == len(yTest))\n",
    "\n",
    "theta = np.linalg.inv(np.transpose(XTrain).dot(XTrain)).dot(np.transpose(XTrain)).dot(yTrain)\n",
    "print(theta)"
   ]
  }
 ],
 "metadata": {
  "celltoolbar": "Tags",
  "kernelspec": {
   "display_name": "Python 3",
   "language": "python",
   "name": "python3"
  },
  "language_info": {
   "codemirror_mode": {
    "name": "ipython",
    "version": 3
   },
   "file_extension": ".py",
   "mimetype": "text/x-python",
   "name": "python",
   "nbconvert_exporter": "python",
   "pygments_lexer": "ipython3",
   "version": "3.6.3"
  },
  "toc": {
   "base_numbering": 1,
   "nav_menu": {},
   "number_sections": true,
   "sideBar": true,
   "skip_h1_title": true,
   "title_cell": "Table of Contents",
   "title_sidebar": "Contents",
   "toc_cell": true,
   "toc_position": {},
   "toc_section_display": true,
   "toc_window_display": false
  }
 },
 "nbformat": 4,
 "nbformat_minor": 2
}
