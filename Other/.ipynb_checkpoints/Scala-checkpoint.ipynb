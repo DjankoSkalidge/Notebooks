{
 "cells": [
  {
   "cell_type": "markdown",
   "metadata": {
    "toc": true
   },
   "source": [
    "<h1>Table of Contents<span class=\"tocSkip\"></span></h1>\n",
    "<div class=\"toc\"><ul class=\"toc-item\"><li><span><a href=\"#Scala-with-Jupyter-Notebooks\" data-toc-modified-id=\"Scala-with-Jupyter-Notebooks-1\"><span class=\"toc-item-num\">1&nbsp;&nbsp;</span>Scala with Jupyter Notebooks</a></span></li><li><span><a href=\"#Learning-Scala\" data-toc-modified-id=\"Learning-Scala-2\"><span class=\"toc-item-num\">2&nbsp;&nbsp;</span>Learning Scala</a></span><ul class=\"toc-item\"><li><span><a href=\"#Running-my-first-Scala-code\" data-toc-modified-id=\"Running-my-first-Scala-code-2.1\"><span class=\"toc-item-num\">2.1&nbsp;&nbsp;</span>Running my first Scala code</a></span></li><li><span><a href=\"#Hello-world\" data-toc-modified-id=\"Hello-world-2.2\"><span class=\"toc-item-num\">2.2&nbsp;&nbsp;</span>Hello world</a></span></li><li><span><a href=\"#Rolling-dices\" data-toc-modified-id=\"Rolling-dices-2.3\"><span class=\"toc-item-num\">2.3&nbsp;&nbsp;</span>Rolling dices</a></span></li><li><span><a href=\"#Closures-and-Regular-expressions\" data-toc-modified-id=\"Closures-and-Regular-expressions-2.4\"><span class=\"toc-item-num\">2.4&nbsp;&nbsp;</span>Closures and Regular expressions</a></span></li><li><span><a href=\"#Higher-order-functions\" data-toc-modified-id=\"Higher-order-functions-2.5\"><span class=\"toc-item-num\">2.5&nbsp;&nbsp;</span>Higher order functions</a></span></li><li><span><a href=\"#Pattern-matching\" data-toc-modified-id=\"Pattern-matching-2.6\"><span class=\"toc-item-num\">2.6&nbsp;&nbsp;</span>Pattern matching</a></span></li><li><span><a href=\"#Case-classes\" data-toc-modified-id=\"Case-classes-2.7\"><span class=\"toc-item-num\">2.7&nbsp;&nbsp;</span>Case classes</a></span></li><li><span><a href=\"#Collections\" data-toc-modified-id=\"Collections-2.8\"><span class=\"toc-item-num\">2.8&nbsp;&nbsp;</span>Collections</a></span></li><li><span><a href=\"#Traits\" data-toc-modified-id=\"Traits-2.9\"><span class=\"toc-item-num\">2.9&nbsp;&nbsp;</span>Traits</a></span></li></ul></li><li><span><a href=\"#My-project\" data-toc-modified-id=\"My-project-3\"><span class=\"toc-item-num\">3&nbsp;&nbsp;</span>My project</a></span><ul class=\"toc-item\"><li><span><a href=\"#Reading-the-data\" data-toc-modified-id=\"Reading-the-data-3.1\"><span class=\"toc-item-num\">3.1&nbsp;&nbsp;</span>Reading the data</a></span></li><li><span><a href=\"#Import-jar\" data-toc-modified-id=\"Import-jar-3.2\"><span class=\"toc-item-num\">3.2&nbsp;&nbsp;</span>Import jar</a></span></li><li><span><a href=\"#Parsing-the-JSON-string-into-a-list\" data-toc-modified-id=\"Parsing-the-JSON-string-into-a-list-3.3\"><span class=\"toc-item-num\">3.3&nbsp;&nbsp;</span>Parsing the JSON string into a list</a></span></li></ul></li></ul></div>"
   ]
  },
  {
   "cell_type": "markdown",
   "metadata": {},
   "source": [
    "# Scala"
   ]
  },
  {
   "cell_type": "markdown",
   "metadata": {},
   "source": [
    "## Scala with Jupyter Notebooks\n",
    "1. Download scala kernel here: https://oss.sonatype.org/content/repositories/snapshots/com/github/alexarchambault/jupyter/jupyter-scala-cli_2.11.6/0.2.0-SNAPSHOT/jupyter-scala_2.11.6-0.2.0-SNAPSHOT.zip\n",
    "2. Run the jupyter-scala.bat program once.\n",
    "3. Check if Jupyter now knows about the new kernel by running the following command in the anaconda prompt:\n",
    "```\n",
    "$ jupyter kernelspec list\n",
    "```\n",
    "This should print a list of kernels, check if it contains the following line: scala211\n",
    "4. Start jupyter and select scala as a kernel for the new notebook."
   ]
  },
  {
   "cell_type": "markdown",
   "metadata": {},
   "source": [
    "## Learning Scala\n"
   ]
  },
  {
   "cell_type": "markdown",
   "metadata": {},
   "source": [
    "### Running my first Scala code\n",
    "This next codeblock is my first code in scala.\n",
    "The purpose of this code is to see if my Scala interpreter is working."
   ]
  },
  {
   "cell_type": "code",
   "execution_count": 2,
   "metadata": {
    "scrolled": true
   },
   "outputs": [
    {
     "data": {
      "text/plain": [
       "\u001b[36mx\u001b[0m: \u001b[32mInt\u001b[0m = \u001b[32m3\u001b[0m\n",
       "\u001b[36my\u001b[0m: \u001b[32mInt\u001b[0m = \u001b[32m2\u001b[0m\n",
       "\u001b[36mres1_2\u001b[0m: \u001b[32mInt\u001b[0m = \u001b[32m5\u001b[0m"
      ]
     },
     "metadata": {},
     "output_type": "display_data"
    }
   ],
   "source": [
    "val x = 3\n",
    "val y = 2\n",
    "x+y"
   ]
  },
  {
   "cell_type": "markdown",
   "metadata": {},
   "source": [
    "### Hello world"
   ]
  },
  {
   "cell_type": "code",
   "execution_count": 3,
   "metadata": {},
   "outputs": [
    {
     "data": {
      "text/plain": [
       "defined \u001b[32mobject \u001b[36mHelloWorld\u001b[0m"
      ]
     },
     "metadata": {},
     "output_type": "display_data"
    }
   ],
   "source": [
    "object HelloWorld {\n",
    "   def main(args: Array[String]) {\n",
    "      println(\"Hello, world!\")\n",
    "   }\n",
    "}"
   ]
  },
  {
   "cell_type": "markdown",
   "metadata": {},
   "source": [
    "### Rolling dices\n",
    "The following program prints the distribution of the outcome of two dice being trown 1000 times."
   ]
  },
  {
   "cell_type": "code",
   "execution_count": 57,
   "metadata": {},
   "outputs": [
    {
     "name": "stdout",
     "output_type": "stream",
     "text": [
      "1001(1,,\n",
      ")(2,XXXXXXXXX,\n",
      ")(3,XXXXXXXXXXXXXXXXXX,\n",
      ")(4,XXXXXXXXXXXXXXXXXXXXXXXXXXXX,\n",
      ")(5,XXXXXXXXXXXXXXXXXXXXXXXXXXXXXXXXXXXXX,\n",
      ")(6,XXXXXXXXXXXXXXXXXXXXXXXXXXXXXXXXXXXXXXXXXXXXXXXXX,\n",
      ")(7,XXXXXXXXXXXXXXXXXXXXXXXXXXXXXXXXXXXXXXXXXXXXXXXXXXXXX,\n",
      ")(8,XXXXXXXXXXXXXXXXXXXXXXXXXXXXXXXXXXXXXXXXXXXX,\n",
      ")(9,XXXXXXXXXXXXXXXXXXXXXXXXXXXXXXXXXXXXXXX,\n",
      ")(10,XXXXXXXXXXXXXXXXXXXXXXXXXXX,\n",
      ")(11,XXXXXXXXXXXXXXXXXX,\n",
      ")(12,XXXXXXXX,\n",
      ")"
     ]
    },
    {
     "data": {
      "text/plain": [
       "\u001b[36mr\u001b[0m: \u001b[32mutil\u001b[0m.\u001b[32mRandom\u001b[0m = scala.util.Random@7f137c5d\n",
       "\u001b[36msamples\u001b[0m: \u001b[32mInt\u001b[0m = \u001b[32m1000\u001b[0m\n",
       "\u001b[36mdice\u001b[0m: \u001b[32mArray\u001b[0m[\u001b[32mInt\u001b[0m] = \u001b[33mArray\u001b[0m(\n",
       "  \u001b[32m0\u001b[0m,\n",
       "  \u001b[32m0\u001b[0m,\n",
       "  \u001b[32m28\u001b[0m,\n",
       "  \u001b[32m54\u001b[0m,\n",
       "  \u001b[32m84\u001b[0m,\n",
       "  \u001b[32m111\u001b[0m,\n",
       "  \u001b[32m149\u001b[0m,\n",
       "  \u001b[32m161\u001b[0m,\n",
       "  \u001b[32m134\u001b[0m,\n",
       "  \u001b[32m119\u001b[0m,\n",
       "  \u001b[32m82\u001b[0m,\n",
       "  \u001b[32m54\u001b[0m,\n",
       "  \u001b[32m25\u001b[0m\n",
       ")\n",
       "\u001b[36mn\u001b[0m: \u001b[32mInt\u001b[0m = \u001b[32m1001\u001b[0m"
      ]
     },
     "metadata": {},
     "output_type": "display_data"
    }
   ],
   "source": [
    "val r = new scala.util.Random\n",
    "val samples = 1000\n",
    "var dice = new Array[Int](13)\n",
    "var n = 0\n",
    "for( i <- 1 to samples){\n",
    "    var total = 1+r.nextInt(6) + 1+r.nextInt(6)\n",
    "    //print(total, \"\\n\")\n",
    "    dice(total) = dice(total) + 1\n",
    "    n = n+1\n",
    "}\n",
    "\n",
    "for( i <- 1 to dice.length -1) {\n",
    "    var str = \"\"\n",
    "    for( j <- 1 to dice(i)/3) {\n",
    "        str = str + \"X\"\n",
    "    }\n",
    "    print(i, str, \"\\n\")\n",
    "}\n"
   ]
  },
  {
   "cell_type": "markdown",
   "metadata": {},
   "source": [
    "### Closures and Regular expressions\n",
    "A closure is a function. The resultant function value depends on the value of the variable(s) declared outside the function."
   ]
  },
  {
   "cell_type": "code",
   "execution_count": 77,
   "metadata": {},
   "outputs": [
    {
     "data": {
      "text/plain": [
       "\u001b[32mimport \u001b[36mscala.util.matching.Regex\u001b[0m\n",
       "\u001b[36mdateRegex\u001b[0m: \u001b[32mString\u001b[0m = \u001b[32m\"([0-9]{2}-[0-9]{2}-[0-9]{4})\"\u001b[0m\n",
       "\u001b[36mdateRegex2\u001b[0m: \u001b[32mString\u001b[0m = \u001b[32m\"([0-9]{4}-[0-9]{2}-[0-9]{2})\"\u001b[0m\n",
       "\u001b[36mdateToYear\u001b[0m: \u001b[32mString\u001b[0m => \u001b[32mString\u001b[0m = <function1>\n",
       "\u001b[36ma\u001b[0m: \u001b[32mString\u001b[0m = \u001b[32m\"2018\"\u001b[0m\n",
       "\u001b[36mb\u001b[0m: \u001b[32mString\u001b[0m = \u001b[32m\"2018-09-23\"\u001b[0m"
      ]
     },
     "metadata": {},
     "output_type": "display_data"
    }
   ],
   "source": [
    "import scala.util.matching.Regex\n",
    "val dateRegex = \"\"\"([0-9]{2}-[0-9]{2}-[0-9]{4})\"\"\"\n",
    "val dateToYear = (s:String) => if (s.matches(dateRegex )) {s.takeRight(4)} else {s}\n",
    "val a = dateToYear(\"23-09-2018\")\n",
    "val b = dateToYear(\"2018-09-23\")"
   ]
  },
  {
   "cell_type": "markdown",
   "metadata": {},
   "source": [
    "### Higher order functions"
   ]
  },
  {
   "cell_type": "code",
   "execution_count": 78,
   "metadata": {},
   "outputs": [
    {
     "data": {
      "text/plain": [
       "defined \u001b[32mfunction \u001b[36msquared\u001b[0m\n",
       "defined \u001b[32mfunction \u001b[36mcubed\u001b[0m\n",
       "defined \u001b[32mfunction \u001b[36mprocess\u001b[0m\n",
       "\u001b[36mfiveSquared\u001b[0m: \u001b[32mInt\u001b[0m = \u001b[32m25\u001b[0m\n",
       "\u001b[36msevenCubed\u001b[0m: \u001b[32mInt\u001b[0m = \u001b[32m343\u001b[0m"
      ]
     },
     "metadata": {},
     "output_type": "display_data"
    }
   ],
   "source": [
    "def squared(x: Int): Int = x * x\n",
    "def cubed(x: Int): Int = x * x * x\n",
    "def process(a: Int, processor: Int => Int): Int = {processor(a) }\n",
    "val fiveSquared = process(5, squared)\n",
    "val sevenCubed = process(7, cubed)"
   ]
  },
  {
   "cell_type": "markdown",
   "metadata": {},
   "source": [
    "### Pattern matching"
   ]
  },
  {
   "cell_type": "code",
   "execution_count": 80,
   "metadata": {},
   "outputs": [
    {
     "data": {
      "text/plain": [
       "\u001b[36mdateRegex\u001b[0m: \u001b[32mRegex\u001b[0m = ([0-9]{2}-[0-9]{2}-[0-9]{4})\n",
       "\u001b[36mdateRegex2\u001b[0m: \u001b[32mRegex\u001b[0m = ([0-9]{4}-[0-9]{2}-[0-9]{2})\n",
       "defined \u001b[32mfunction \u001b[36mgetYearFromDate\u001b[0m\n",
       "\u001b[36ma\u001b[0m: \u001b[32mString\u001b[0m = \u001b[32m\"2018\"\u001b[0m\n",
       "\u001b[36mb\u001b[0m: \u001b[32mString\u001b[0m = \u001b[32m\"2018\"\u001b[0m"
      ]
     },
     "metadata": {},
     "output_type": "display_data"
    }
   ],
   "source": [
    "val dateRegex = \"([0-9]{2}-[0-9]{2}-[0-9]{4})\".r\n",
    "val dateRegex2 = \"([0-9]{4}-[0-9]{2}-[0-9]{2})\".r\n",
    "def getYearFromDate(s: String): String = s match {\n",
    "    case dateRegex(s) => s.takeRight(4)\n",
    "    case dateRegex2(s) => s.take(4)\n",
    "}\n",
    "val a = getYearFromDate(\"23-09-2018\")\n",
    "val b = getYearFromDate(\"2018-09-23\")"
   ]
  },
  {
   "cell_type": "markdown",
   "metadata": {},
   "source": [
    "### Case classes"
   ]
  },
  {
   "cell_type": "code",
   "execution_count": 82,
   "metadata": {},
   "outputs": [
    {
     "data": {
      "text/plain": [
       "defined \u001b[32mclass \u001b[36mCar\u001b[0m\n",
       "\u001b[36mbuickLeSabre\u001b[0m: \u001b[32m$user\u001b[0m.\u001b[32mCar\u001b[0m = \u001b[33mCar\u001b[0m(\u001b[32m\"Buick\"\u001b[0m, \u001b[32m\"LeSabre\"\u001b[0m)\n",
       "defined \u001b[32mfunction \u001b[36mcarType\u001b[0m\n",
       "\u001b[36mtypeOfBuick\u001b[0m: \u001b[32mString\u001b[0m = \u001b[32m\"sedan\"\u001b[0m"
      ]
     },
     "metadata": {},
     "output_type": "display_data"
    }
   ],
   "source": [
    "case class Car(brand: String, model: String)\n",
    "val buickLeSabre = Car(\"Buick\", \"LeSabre\")\n",
    "\n",
    "def carType(car: Car) = car match {\n",
    "  case Car(\"Honda\", \"Accord\") => \"sedan\"\n",
    "  case Car(\"GM\", \"Denali\") => \"suv\"\n",
    "  case Car(\"Mercedes\", \"300\") => \"luxury\"\n",
    "  case Car(\"Buick\", \"LeSabre\") => \"sedan\"\n",
    "  case _ => \"Car: is of unknown type\"\n",
    "}\n",
    "val typeOfBuick = carType(buickLeSabre)"
   ]
  },
  {
   "cell_type": "markdown",
   "metadata": {},
   "source": [
    "### Collections"
   ]
  },
  {
   "cell_type": "code",
   "execution_count": 90,
   "metadata": {},
   "outputs": [
    {
     "data": {
      "text/plain": [
       "\u001b[36mmutableList\u001b[0m: \u001b[32mList\u001b[0m[\u001b[32mInt\u001b[0m] = \u001b[33mList\u001b[0m(\u001b[32m1\u001b[0m, \u001b[32m2\u001b[0m, \u001b[32m3\u001b[0m)\n",
       "\u001b[36mimmutableList\u001b[0m: \u001b[32mList\u001b[0m[\u001b[32mInt\u001b[0m] = \u001b[33mList\u001b[0m(\u001b[32m4\u001b[0m, \u001b[32m5\u001b[0m, \u001b[32m6\u001b[0m)\n",
       "\u001b[36mres69_2\u001b[0m: \u001b[32mList\u001b[0m[\u001b[32mInt\u001b[0m] = \u001b[33mList\u001b[0m(\u001b[32m1\u001b[0m, \u001b[32m400\u001b[0m, \u001b[32m3\u001b[0m)\n",
       "\u001b[36mmutableList2\u001b[0m: \u001b[32mList\u001b[0m[\u001b[32mInt\u001b[0m] = \u001b[33mList\u001b[0m(\u001b[32m3\u001b[0m, \u001b[32m1\u001b[0m, \u001b[32m2\u001b[0m, \u001b[32m3\u001b[0m)\n",
       "\u001b[36mres69_4\u001b[0m: \u001b[32mList\u001b[0m[\u001b[32mInt\u001b[0m] = \u001b[33mList\u001b[0m(\u001b[32m4\u001b[0m, \u001b[32m700\u001b[0m, \u001b[32m6\u001b[0m)\n",
       "\u001b[36mmutableList3\u001b[0m: \u001b[32mList\u001b[0m[\u001b[32mInt\u001b[0m] = \u001b[33mList\u001b[0m(\n",
       "  \u001b[32m20\u001b[0m,\n",
       "  \u001b[32m19\u001b[0m,\n",
       "  \u001b[32m18\u001b[0m,\n",
       "  \u001b[32m17\u001b[0m,\n",
       "  \u001b[32m16\u001b[0m,\n",
       "  \u001b[32m15\u001b[0m,\n",
       "  \u001b[32m14\u001b[0m,\n",
       "  \u001b[32m13\u001b[0m,\n",
       "  \u001b[32m12\u001b[0m,\n",
       "  \u001b[32m11\u001b[0m,\n",
       "  \u001b[32m10\u001b[0m,\n",
       "  \u001b[32m9\u001b[0m,\n",
       "  \u001b[32m8\u001b[0m,\n",
       "  \u001b[32m7\u001b[0m,\n",
       "\u001b[33m...\u001b[0m\n",
       "\u001b[32mimport \u001b[36mscala.collection.mutable.ListBuffer\u001b[0m\n",
       "\u001b[36mfruits\u001b[0m: \u001b[32mListBuffer\u001b[0m[\u001b[32mString\u001b[0m] = \u001b[33mListBuffer\u001b[0m(\u001b[32m\"Apple\"\u001b[0m, \u001b[32m\"Banana\"\u001b[0m, \u001b[32m\"Orange\"\u001b[0m)\n",
       "\u001b[36mres69_9\u001b[0m: \u001b[32mListBuffer\u001b[0m[\u001b[32mString\u001b[0m] = \u001b[33mListBuffer\u001b[0m(\u001b[32m\"Apple\"\u001b[0m, \u001b[32m\"Banana\"\u001b[0m, \u001b[32m\"Orange\"\u001b[0m)\n",
       "\u001b[36mres69_10\u001b[0m: \u001b[32mListBuffer\u001b[0m[\u001b[32mString\u001b[0m] = \u001b[33mListBuffer\u001b[0m(\u001b[32m\"Apple\"\u001b[0m, \u001b[32m\"Banana\"\u001b[0m, \u001b[32m\"Orange\"\u001b[0m)\n",
       "\u001b[36mres69_11\u001b[0m: \u001b[32mListBuffer\u001b[0m[\u001b[32mString\u001b[0m] = \u001b[33mListBuffer\u001b[0m(\u001b[32m\"Apple\"\u001b[0m, \u001b[32m\"Banana\"\u001b[0m, \u001b[32m\"Orange\"\u001b[0m)"
      ]
     },
     "metadata": {},
     "output_type": "display_data"
    }
   ],
   "source": [
    "var mutableList = List(1, 2, 3);\n",
    "var immutableList = scala.collection.immutable.List(4, 5, 6);\n",
    "mutableList.updated(1,400);\n",
    "val mutableList2 = 3::mutableList\n",
    "immutableList.updated(1,700);\n",
    "\n",
    "var mutableList3 = List(1)\n",
    "for (i <- 0 to 20){\n",
    "    mutableList3 = i::mutableList3\n",
    "}\n",
    "\n",
    "import scala.collection.mutable.ListBuffer\n",
    "var fruits = new ListBuffer[String]()\n",
    "fruits += \"Apple\"\n",
    "fruits += \"Banana\"\n",
    "fruits += \"Orange\""
   ]
  },
  {
   "cell_type": "markdown",
   "metadata": {},
   "source": [
    "### Traits"
   ]
  },
  {
   "cell_type": "code",
   "execution_count": 93,
   "metadata": {},
   "outputs": [
    {
     "data": {
      "text/plain": [
       "defined \u001b[32mtrait \u001b[36mColor\u001b[0m\n",
       "defined \u001b[32mclass \u001b[36mRed\u001b[0m\n",
       "defined \u001b[32mclass \u001b[36mBlue\u001b[0m\n",
       "\u001b[36mred\u001b[0m: \u001b[32m$user\u001b[0m.\u001b[32mRed\u001b[0m = cmd71$$user$Red@1b1a56cb\n",
       "\u001b[36mblue\u001b[0m: \u001b[32m$user\u001b[0m.\u001b[32mBlue\u001b[0m = cmd71$$user$Blue@54492268\n",
       "\u001b[36mres71_5\u001b[0m: \u001b[32mBoolean\u001b[0m = true\n",
       "\u001b[36mres71_6\u001b[0m: \u001b[32mString\u001b[0m = \u001b[32m\"Red\"\u001b[0m\n",
       "\u001b[36mres71_7\u001b[0m: \u001b[32mBoolean\u001b[0m = false"
      ]
     },
     "metadata": {},
     "output_type": "display_data"
    }
   ],
   "source": [
    "trait Color {\n",
    "    def isRed(): Boolean\n",
    "    def name(): String\n",
    "}\n",
    "class Red extends Color {\n",
    "    def isRed() = true\n",
    "    def name() = \"Red\"\n",
    "}\n",
    "class Blue extends Color {\n",
    "    def isRed() = false\n",
    "    def name() = \"Blue\"\n",
    "}\n",
    "var red = new Red();\n",
    "var blue = new Blue();\n",
    "red.isRed()\n",
    "red.name()\n",
    "blue.isRed()"
   ]
  },
  {
   "cell_type": "markdown",
   "metadata": {},
   "source": [
    "## My project\n",
    "I am going to make a program that parses jupyter notebooks and outputs equivalent .py files. I am going to develop the code in jupyter notebooks, and when it works I will convert it to a .scala file."
   ]
  },
  {
   "cell_type": "markdown",
   "metadata": {},
   "source": [
    "### Reading the data"
   ]
  },
  {
   "cell_type": "code",
   "execution_count": 3,
   "metadata": {},
   "outputs": [
    {
     "data": {
      "text/plain": [
       "\u001b[32mimport \u001b[36mscala.io.Source\u001b[0m\n",
       "\u001b[36mfilename\u001b[0m: \u001b[32mString\u001b[0m = \u001b[32m\"TestNotebook.ipynb\"\u001b[0m\n",
       "\u001b[36mjsonstring\u001b[0m: \u001b[32mString\u001b[0m = \u001b[32m\"\"\"\n",
       "{ \"cells\": [  {   \"cell_type\": \"markdown\",   \"metadata\": {    \"toc\": true   },   \"source\": [    \"<h1>Table of Contents<span class=\\\"tocSkip\\\"></span></h1>\\n\",    \"<div class=\\\"toc\\\"><ul class=\\\"toc-item\\\"><li><span><a href=\\\"#Test-notebook\\\" data-toc-modified-id=\\\"Test-notebook-1\\\"><span class=\\\"toc-item-num\\\">1&nbsp;&nbsp;</span>Test notebook</a></span></li></ul></div>\"   ]  },  {   \"cell_type\": \"markdown\",   \"metadata\": {},   \"source\": [    \"## Test notebook\\n\",    \"This is a notebook that will be converted to a .py file using scala.\"   ]  },  {   \"cell_type\": \"code\",   \"execution_count\": 1,   \"metadata\": {},   \"outputs\": [    {     \"name\": \"stdout\",     \"output_type\": \"stream\",     \"text\": [      \"0\\n\",      \"1\\n\",      \"2\\n\",      \"3\\n\",      \"4\\n\",      \"5\\n\",      \"6\\n\",      \"7\\n\",      \"8\\n\",      \"9\\n\"     ]    }   ],   \"source\": [    \"import numpy as np\\n\",    \"list = np.arange(0,10)\\n\",    \"for item in list:\\n\",    \"    print(item)\"   ]  },  {   \"cell_type\": \"code\",   \"execution_count\": null,   \"metadata\": {    \"collapsed\": true   },   \"outputs\": [],   \"source\": [    \"listofzeros = np.zeros(3)\\n\",    \"for item in listofzeros:\\n\",    \"    print(item)\"   ]  } ], \"metadata\": {  \"kernelspec\": {   \"display_name\": \"Python 3\",   \"language\": \"python\",   \"name\": \"python3\"  },  \"language_info\": {   \"codemirror_mode\": {    \"name\": \"ipython\",    \"version\": 3   },   \"file_extensi\u001b[33m...\u001b[0m"
      ]
     },
     "metadata": {},
     "output_type": "display_data"
    }
   ],
   "source": [
    "import scala.io.Source;\n",
    "var filename = \"TestNotebook.ipynb\"\n",
    "var jsonstring = \"\"\n",
    "for (line <- Source.fromFile(filename).getLines) {\n",
    "    jsonstring = jsonstring.concat(line)\n",
    "}\n",
    "//print (jsonstring)\n",
    "\n"
   ]
  },
  {
   "cell_type": "markdown",
   "metadata": {},
   "source": [
    "### Import jar\n",
    "To parse a notebook I am going to need a json parser, since notebooks are stored in a json format. Getting this parser proved to be quite difficult in Jupyter notebooks. The import needed for the parser (scala.util.parsing.json) is since scala 2.10 not part of the standard scala library. The following line resulted in an error:\n",
    "```scala\n",
    "import scala.util.parsing.json\n",
    "\n",
    "Compilation Failed\n",
    "Main.scala:56: object parsing is not a member of package util\n",
    "```\n",
    "After an extensive knowledge aqcuisition session I was able to figure out which jar was needed for the parser and I figured out how to add this jar to work in notebooks."
   ]
  },
  {
   "cell_type": "code",
   "execution_count": 4,
   "metadata": {},
   "outputs": [
    {
     "name": "stdout",
     "output_type": "stream",
     "text": [
      ":: problems summary ::\n",
      ":::: WARNINGS\n",
      "\tUnable to reparse com.github.alexarchambault.jupyter#jupyter-scala-api_2.11.6;0.2.0-SNAPSHOT from sonatype-snapshots, using Thu Dec 24 15:50:58 CET 2015\n",
      "\n",
      "\tChoosing sonatype-snapshots for com.github.alexarchambault.jupyter#jupyter-scala-api_2.11.6;0.2.0-SNAPSHOT\n",
      "\n",
      "\tUnable to reparse com.github.alexarchambault#ammonite-api_2.11.6;0.3.1-SNAPSHOT from sonatype-snapshots, using Wed Oct 21 11:43:36 CEST 2015\n",
      "\n",
      "\tChoosing sonatype-snapshots for com.github.alexarchambault#ammonite-api_2.11.6;0.3.1-SNAPSHOT\n",
      "\n",
      "\tUnable to reparse com.github.alexarchambault.jupyter#jupyter-api_2.11;0.2.0-SNAPSHOT from sonatype-snapshots, using Wed Oct 21 17:03:52 CEST 2015\n",
      "\n",
      "\tChoosing sonatype-snapshots for com.github.alexarchambault.jupyter#jupyter-api_2.11;0.2.0-SNAPSHOT\n",
      "\n"
     ]
    },
    {
     "data": {
      "text/plain": []
     },
     "metadata": {},
     "output_type": "display_data"
    }
   ],
   "source": [
    "load.ivy(\"org.scala-lang.modules\" %% \"scala-parser-combinators\" % \"1.0.1\");"
   ]
  },
  {
   "cell_type": "code",
   "execution_count": 5,
   "metadata": {},
   "outputs": [
    {
     "data": {
      "text/plain": [
       "\u001b[32mimport \u001b[36mscala.util.parsing.json\u001b[0m"
      ]
     },
     "metadata": {},
     "output_type": "display_data"
    }
   ],
   "source": [
    "import scala.util.parsing.json"
   ]
  },
  {
   "cell_type": "markdown",
   "metadata": {},
   "source": [
    "### Parsing the JSON string into a list\n",
    "I don't need to have all the json fields to construct an equivalent .py file. Only the 'source' fields of the cells with celltype 'code' are needed. Both the 'source' and the 'celltype' fields are strings. 'cell' fields are lists, each element of the list is a string / line of code."
   ]
  },
  {
   "cell_type": "code",
   "execution_count": 6,
   "metadata": {},
   "outputs": [
    {
     "data": {
      "text/plain": [
       "defined \u001b[32mclass \u001b[36mCC\u001b[0m\n",
       "defined \u001b[32mobject \u001b[36mM\u001b[0m\n",
       "defined \u001b[32mobject \u001b[36mL\u001b[0m\n",
       "defined \u001b[32mobject \u001b[36mS\u001b[0m\n",
       "defined \u001b[32mobject \u001b[36mD\u001b[0m\n",
       "defined \u001b[32mobject \u001b[36mB\u001b[0m"
      ]
     },
     "metadata": {},
     "output_type": "display_data"
    }
   ],
   "source": [
    "class CC[T] {\n",
    "  def unapply(a:Option[Any]):Option[T] = if (a.isEmpty) {\n",
    "    None\n",
    "  } else {\n",
    "    Some(a.get.asInstanceOf[T])\n",
    "  }\n",
    "}\n",
    "\n",
    "object M extends CC[Map[String, Any]]\n",
    "object L extends CC[List[Any]]\n",
    "object S extends CC[String]\n",
    "// De volgende object definities zijn niet persé nodig, maar zijn gegeven voor de volledigheid\n",
    "object D extends CC[Double]\n",
    "object B extends CC[Boolean]"
   ]
  },
  {
   "cell_type": "code",
   "execution_count": 7,
   "metadata": {},
   "outputs": [
    {
     "data": {
      "text/plain": [
       "\u001b[36mresult\u001b[0m: \u001b[32mOption\u001b[0m[\u001b[32mObject\u001b[0m with \u001b[32mjava\u001b[0m.\u001b[32mio\u001b[0m.\u001b[32mSerializable\u001b[0m] = Some(List((markdown,List(<h1>Table of Contents<span class=\"tocSkip\"></span></h1>\n",
       ", <div class=\"toc\"><ul class=\"toc-item\"><li><span><a href=\"#Test-notebook\" data-toc-modified-id=\"Test-notebook-1\"><span class=\"toc-item-num\">1&nbsp;&nbsp;</span>Test notebook</a></span></li></ul></div>)), (markdown,List(## Test notebook\n",
       ", This is a notebook that will be converted to a .py file using scala.)), (code,List(import numpy as np\n",
       ", list = np.arange(0,10)\n",
       ", for item in list:\n",
       ",     print(item))), (code,List(listofzeros = np.zeros(3)\n",
       ", for item in listofzeros:\n",
       ",     print(item)))))\n",
       "\u001b[36mresultList\u001b[0m: \u001b[32mAny\u001b[0m = List((markdown,List(<h1>Table of Contents<span class=\"tocSkip\"></span></h1>\n",
       ", <div class=\"toc\"><ul class=\"toc-item\"><li><span><a href=\"#Test-notebook\" data-toc-modified-id=\"Test-notebook-1\"><span class=\"toc-item-num\">1&nbsp;&nbsp;</span>Test notebook</a></span></li></ul></div>)), (markdown,List(## Test notebook\n",
       ", This is a notebook that will be converted to a .py file using scala.)), (code,List(import numpy as np\n",
       ", list = np.arange(0,10)\n",
       ", for item in list:\n",
       ",     print(item))), (code,List(listofzeros = np.zeros(3)\n",
       ", for item in listofzeros:\n",
       ",     print(item))))"
      ]
     },
     "metadata": {},
     "output_type": "display_data"
    }
   ],
   "source": [
    "val result = for {\n",
    "  M(map) <- Some(scala.util.parsing.json.JSON.parseFull(jsonstring))\n",
    "} yield {\n",
    "  map.get(\"cells\") match {\n",
    "    case L(cells) => {\n",
    "      for {\n",
    "        cell <- cells\n",
    "        M(c) = Some(cell)\n",
    "        S(celltype) = c.get(\"cell_type\")\n",
    "        L(source) = c.get(\"source\")\n",
    "      } yield {\n",
    "        (celltype, source)\n",
    "      }        \n",
    "    }\n",
    "    case None => \"bad json\"\n",
    "  }\n",
    "}\n",
    "//result is een option, getOrElse haalt de lijst uit de option.\n",
    "val resultList = result.getOrElse(0)\n",
    "//print (resultList)"
   ]
  },
  {
   "cell_type": "code",
   "execution_count": null,
   "metadata": {
    "collapsed": true
   },
   "outputs": [],
   "source": [
    "List((markdown,List(<h1>Table of Contents<span class=\"tocSkip\"></span></h1>\n",
    ", <div class=\"toc\"><ul class=\"toc-item\"><li><span><a href=\"#Test-notebook\" data-toc-modified-id=\"Test-notebook-1\"><span class=\"toc-item-num\">1&nbsp;&nbsp;</span>Test notebook</a></span></li></ul></div>)), (markdown,List(## Test notebook\n",
    ", This is a notebook that will be converted to a .py file using scala.)), (code,List(import numpy as np\n",
    ", list = np.arange(0,10)\n",
    ", for item in list:\n",
    ",     print(item))), (code,List(listofzeros = np.zeros(3)\n",
    ", for item in listofzeros:\n",
    ",     print(item))))"
   ]
  },
  {
   "cell_type": "code",
   "execution_count": 10,
   "metadata": {},
   "outputs": [
    {
     "ename": "",
     "evalue": "",
     "output_type": "error",
     "traceback": [
      "Compilation Failed",
      "\u001b[31mMain.scala:84: type mismatch;",
      " found   : Any",
      " required: List[Any]\r",
      "parseList(resultList )\r",
      "          ^\u001b[0m"
     ]
    }
   ],
   "source": [
    "\n",
    "def parseList(list:List[Any]):Unit = {\n",
    "    list.foreach {\n",
    "        println\n",
    "    }\n",
    "}\n",
    "parseList(resultList )"
   ]
  }
 ],
 "metadata": {
  "kernelspec": {
   "display_name": "Scala 2.11",
   "language": "scala211",
   "name": "scala211"
  },
  "language_info": {
   "codemirror_mode": "text/x-scala",
   "file_extension": ".scala",
   "mimetype": "text/x-scala",
   "name": "scala211",
   "pygments_lexer": "scala",
   "version": "2.11.6"
  },
  "toc": {
   "base_numbering": 1,
   "nav_menu": {},
   "number_sections": true,
   "sideBar": true,
   "skip_h1_title": true,
   "title_cell": "Table of Contents",
   "title_sidebar": "Contents",
   "toc_cell": true,
   "toc_position": {},
   "toc_section_display": true,
   "toc_window_display": false
  }
 },
 "nbformat": 4,
 "nbformat_minor": 2
}
