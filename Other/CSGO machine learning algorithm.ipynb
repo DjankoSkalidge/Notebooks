{
 "cells": [
  {
   "cell_type": "markdown",
   "metadata": {
    "toc": true
   },
   "source": [
    "<h1>Table of Contents<span class=\"tocSkip\"></span></h1>\n",
    "<div class=\"toc\"><ul class=\"toc-item\"><li><span><a href=\"#Dependencies\" data-toc-modified-id=\"Dependencies-1\"><span class=\"toc-item-num\">1&nbsp;&nbsp;</span>Dependencies</a></span></li><li><span><a href=\"#Reading-the-csv-file\" data-toc-modified-id=\"Reading-the-csv-file-2\"><span class=\"toc-item-num\">2&nbsp;&nbsp;</span>Reading the csv file</a></span></li><li><span><a href=\"#Calculating-the-features\" data-toc-modified-id=\"Calculating-the-features-3\"><span class=\"toc-item-num\">3&nbsp;&nbsp;</span>Calculating the features</a></span><ul class=\"toc-item\"><li><span><a href=\"#Features\" data-toc-modified-id=\"Features-3.1\"><span class=\"toc-item-num\">3.1&nbsp;&nbsp;</span>Features</a></span></li><li><span><a href=\"#Graph-structure\" data-toc-modified-id=\"Graph-structure-3.2\"><span class=\"toc-item-num\">3.2&nbsp;&nbsp;</span>Graph structure</a></span></li><li><span><a href=\"#Less-Simple-Algorithm\" data-toc-modified-id=\"Less-Simple-Algorithm-3.3\"><span class=\"toc-item-num\">3.3&nbsp;&nbsp;</span>Less Simple Algorithm</a></span></li><li><span><a href=\"#Construct-features-DataFrame\" data-toc-modified-id=\"Construct-features-DataFrame-3.4\"><span class=\"toc-item-num\">3.4&nbsp;&nbsp;</span>Construct features DataFrame</a></span></li></ul></li><li><span><a href=\"#Split-Training-and-test-data\" data-toc-modified-id=\"Split-Training-and-test-data-4\"><span class=\"toc-item-num\">4&nbsp;&nbsp;</span>Split Training and test data</a></span></li><li><span><a href=\"#Train\" data-toc-modified-id=\"Train-5\"><span class=\"toc-item-num\">5&nbsp;&nbsp;</span>Train</a></span><ul class=\"toc-item\"><li><span><a href=\"#Normal-equation-to-get-theta\" data-toc-modified-id=\"Normal-equation-to-get-theta-5.1\"><span class=\"toc-item-num\">5.1&nbsp;&nbsp;</span>Normal equation to get theta</a></span></li><li><span><a href=\"#Calculate-theta\" data-toc-modified-id=\"Calculate-theta-5.2\"><span class=\"toc-item-num\">5.2&nbsp;&nbsp;</span>Calculate theta</a></span></li></ul></li><li><span><a href=\"#Implementing-theta-to-calculate-predictions\" data-toc-modified-id=\"Implementing-theta-to-calculate-predictions-6\"><span class=\"toc-item-num\">6&nbsp;&nbsp;</span>Implementing theta to calculate predictions</a></span><ul class=\"toc-item\"><li><span><a href=\"#Calculate-succes-rate-for-test-data\" data-toc-modified-id=\"Calculate-succes-rate-for-test-data-6.1\"><span class=\"toc-item-num\">6.1&nbsp;&nbsp;</span>Calculate succes rate for test data</a></span></li><li><span><a href=\"#Calculate-succes-rate-for-training-data\" data-toc-modified-id=\"Calculate-succes-rate-for-training-data-6.2\"><span class=\"toc-item-num\">6.2&nbsp;&nbsp;</span>Calculate succes rate for training data</a></span></li></ul></li></ul></div>"
   ]
  },
  {
   "cell_type": "markdown",
   "metadata": {},
   "source": [
    "# Machine learning prediction algorithm for CS:GO matches"
   ]
  },
  {
   "cell_type": "markdown",
   "metadata": {},
   "source": [
    "## Dependencies"
   ]
  },
  {
   "cell_type": "code",
   "execution_count": 1,
   "metadata": {
    "ExecuteTime": {
     "end_time": "2018-10-19T00:30:36.801361Z",
     "start_time": "2018-10-19T00:30:36.399338Z"
    },
    "collapsed": true
   },
   "outputs": [],
   "source": [
    "import pandas as pd\n",
    "import numpy as np\n",
    "from datetime import date\n",
    "import math\n"
   ]
  },
  {
   "cell_type": "markdown",
   "metadata": {},
   "source": [
    "## Reading the csv file\n",
    "The file results14_10_2018.csv contains all results of professional csgo matches starting from 30-06-2017 to 14-10-2018."
   ]
  },
  {
   "cell_type": "code",
   "execution_count": 2,
   "metadata": {
    "ExecuteTime": {
     "end_time": "2018-10-19T00:30:36.862364Z",
     "start_time": "2018-10-19T00:30:36.803361Z"
    },
    "collapsed": true
   },
   "outputs": [],
   "source": [
    "resultsdf = pd.read_csv('../Datafiles/csv/results14_10_2018_csgo.csv', index_col=0, encoding='latin1')\n",
    "resultsdf.sort_values(by='date', ascending=True, inplace=True)\n",
    "resultsdf.reset_index(drop=True, inplace=True)"
   ]
  },
  {
   "cell_type": "markdown",
   "metadata": {},
   "source": [
    "## Calculating the features\n",
    "The features will be saved in a pandas dataframe. The results will one by one be loaded into a graph, and the features will be calculated before adding the result to the graph.\n",
    "### Features\n",
    " - x<sub>1</sub>: +/- last shared match \n",
    " - x<sub>2</sub>: +/- last 3 shared matches\n",
    " - x<sub>3</sub>: Relative momentum = (wins last ten results) - (wins last ten results of opponent)\n",
    " - x<sub>4</sub>: Less Simple Algorithm score\n",
    " - x<sub>5</sub>: x<sub>1</sub>x<sub>2</sub>\n",
    " - x<sub>6</sub>: x<sub>1</sub>x<sub>3</sub>\n",
    " - x<sub>7</sub>: x<sub>1</sub>x<sub>4</sub>\n",
    " - x<sub>8</sub>: x<sub>2</sub>x<sub>3</sub>\n",
    " - x<sub>9</sub>: x<sub>2</sub>x<sub>4</sub>\n",
    " - x<sub>10</sub>: x<sub>3</sub>x<sub>4</sub>"
   ]
  },
  {
   "cell_type": "markdown",
   "metadata": {},
   "source": [
    "### Graph structure\n",
    "Teams will be represented by vertices. Edges will represent the Head-to-Head results of the two teams it connects. The Result class represents a single result. A result consists of a winner and a loser, the difference in score between the winner and the loser, a date, and a map."
   ]
  },
  {
   "cell_type": "code",
   "execution_count": 19,
   "metadata": {
    "ExecuteTime": {
     "end_time": "2018-10-19T00:42:17.565442Z",
     "start_time": "2018-10-19T00:42:16.905404Z"
    },
    "code_folding": [
     0,
     91
    ]
   },
   "outputs": [],
   "source": [
    "class Graph:\n",
    "    def __init__(self):\n",
    "        #dictionary of {teamname: Vertex object}\n",
    "        self.vertices = dict()\n",
    "        \n",
    "    # team = string\n",
    "    def addTeam(self, team):\n",
    "        if team not in self.vertices:\n",
    "            self.vertices[team] = Vertex(team)\n",
    "        return self.vertices[team]\n",
    "    \n",
    "    #team = string\n",
    "    def getTeam(self, team):\n",
    "        if team in self.vertices:\n",
    "            return self.vertices[team]\n",
    "        \n",
    "        \n",
    "\n",
    "class Vertex:\n",
    "    x = 5\n",
    "    def __init__(self, name):\n",
    "        self.name = name\n",
    "        #dictionary of {teamname: Edge object}\n",
    "        self.edges = dict()\n",
    "        self.lastxresults = []\n",
    "        \n",
    "    def getEdges(self):\n",
    "        return self.edges\n",
    "    \n",
    "    #team = string\n",
    "    def hasPlayed(self, team):\n",
    "        return team in self.edges\n",
    "    \n",
    "    #result = Result object\n",
    "    def addToLastResults(self, result):\n",
    "        if len(self.lastxresults) == self.x:\n",
    "            self.lastxresults.pop(0)\n",
    "        self.lastxresults.append(result)       \n",
    "    \n",
    "    # Will only be called on the winner of a result\n",
    "    def addResult(self, result):\n",
    "        opponent = result.getLoser() # Vertex object\n",
    "        if opponent.toString() in self.edges:\n",
    "            self.edges[opponent.toString()].addResult(result)\n",
    "        else:\n",
    "            newEdge = Edge()\n",
    "            newEdge.addResult(result)\n",
    "            self.edges[opponent.toString()] = newEdge\n",
    "            opponent.addEdge(self.toString(), newEdge)\n",
    "        self.addToLastResults(result)\n",
    "        opponent.addToLastResults(result)\n",
    "    \n",
    "    #team = string, edge = Edge object\n",
    "    def addEdge(self,team, edge):\n",
    "        self.edges[team] = edge\n",
    "    \n",
    "    #opponent = string\n",
    "    def getHeadToHeadScore(self, opponent):\n",
    "        score = 0\n",
    "        if self.hasPlayed(opponent):\n",
    "            for result in self.edges[opponent].getResults():\n",
    "                if result.isWinner(self.toString()):\n",
    "                    score = score + result.getDif()\n",
    "                else:\n",
    "                    score = score - result.getDif()\n",
    "        return int((score/len(self.edges[opponent].getResults()))*100)\n",
    "    \n",
    "    \n",
    "    #opponent = Vertex object      // Feature\n",
    "    def getRelativeMomentum(self, opponent):\n",
    "        return self.getMomentum() - opponent.getMomentum()\n",
    "    \n",
    "    #opponent = string      // Feature & Feature\n",
    "    def getSharedResults(self, opponent):\n",
    "        lastOne = None\n",
    "        lastThree = None\n",
    "        if opponent in self.edges:\n",
    "            lastOne = self.edges[opponent].getLastResultDif(self.toString())\n",
    "            lastThree = self.edges[opponent].getLastThreeResultsDif(self.toString())\n",
    "        return (lastOne, lastThree)\n",
    "        \n",
    "    def getMomentum(self):\n",
    "        momentum = 0\n",
    "        for result in self.lastxresults:\n",
    "            if result.isWinner(self.toString()):\n",
    "                momentum = momentum + 1\n",
    "        return momentum\n",
    "    \n",
    "    def toString(self):\n",
    "        return self.name\n",
    "        \n",
    "        \n",
    "class Edge:\n",
    "    #opponent = Vertex object\n",
    "    def __init__(self):\n",
    "        self.results = []\n",
    "        \n",
    "    def addResult(self, result):\n",
    "        self.results.append(result)\n",
    "        \n",
    "    def getResults(self):\n",
    "        return self.results\n",
    "    \n",
    "    def getLastResultDif(self, team1):\n",
    "        if self.results[-1].isWinner(team1):\n",
    "            return self.results[-1].getDif()\n",
    "        else:\n",
    "            return -self.results[-1].getDif()\n",
    "    \n",
    "    def getLastThreeResultsDif(self, team1):\n",
    "        returnable = 1\n",
    "        if (len(self.results) > 2):\n",
    "            lastThree = self.results[-3:]\n",
    "            for result in lastThree:\n",
    "                if result.isWinner(team1):\n",
    "                    returnable = returnable + result.getDif()\n",
    "                else:\n",
    "                    returnable = returnable - result.getDif()\n",
    "            return returnable\n",
    "        else:\n",
    "            return None\n",
    "        \n",
    "        \n",
    "class Result:\n",
    "    #date = date object, winner & loser = Vertex object, dif = positive int, playedMap = string\n",
    "    def __init__(self, winner, loser, dif, dateResult, playedMap):\n",
    "        self.winner = winner\n",
    "        self.loser = loser\n",
    "        self.dif = dif\n",
    "        self.dateResult = dateResult\n",
    "        self.playedMap = playedMap\n",
    "    \n",
    "    def getDif(self):\n",
    "        return self.dif\n",
    "    \n",
    "    def getDate(self):\n",
    "        return self.dateResult\n",
    "    \n",
    "    #return Vertex object\n",
    "    def getLoser(self):\n",
    "        return self.loser\n",
    "    \n",
    "    \n",
    "    #team = string\n",
    "    def isWinner(self, team):\n",
    "        return team == self.winner.toString()\n",
    "    \n",
    "    def __ge__(self, other):\n",
    "        return self.dateResult > other.getDate()"
   ]
  },
  {
   "cell_type": "markdown",
   "metadata": {},
   "source": [
    "### Less Simple Algorithm\n",
    "The less simple algorithm looks at the shared opponents of both teams and calculates a score based on the results against these shared opponents."
   ]
  },
  {
   "cell_type": "code",
   "execution_count": 4,
   "metadata": {
    "ExecuteTime": {
     "end_time": "2018-10-19T00:30:37.557404Z",
     "start_time": "2018-10-19T00:30:37.542403Z"
    },
    "collapsed": true
   },
   "outputs": [],
   "source": [
    "#team1 = Vertex object, team2 = Vertex object       // Feature\n",
    "def getLessSimpleAlgorithmScore(team1, team2, graph):\n",
    "    score = team1.getHeadToHeadScore(team2.toString())\n",
    "    divider = 1\n",
    "    for key in team1.getEdges():\n",
    "        sharedOpponent = graph.getTeam(key)\n",
    "        if sharedOpponent.hasPlayed(team2.toString()):\n",
    "            score = score + team1.getHeadToHeadScore(sharedOpponent.toString())\n",
    "            score = score + sharedOpponent.getHeadToHeadScore(team2.toString())\n",
    "            divider = divider + 1\n",
    "    return int((score/divider))"
   ]
  },
  {
   "cell_type": "markdown",
   "metadata": {},
   "source": [
    "### Construct features DataFrame\n",
    "Add every result to the graph after calculating the features. A feature row will be added if the two teams have played eachother at least 3 times."
   ]
  },
  {
   "cell_type": "code",
   "execution_count": 5,
   "metadata": {
    "ExecuteTime": {
     "end_time": "2018-10-19T00:30:37.566404Z",
     "start_time": "2018-10-19T00:30:37.559404Z"
    },
    "collapsed": true
   },
   "outputs": [],
   "source": [
    "def getDate(string):\n",
    "    year = int(string[:4])\n",
    "    month = int(string[5:7])\n",
    "    day = int(string[-2:])\n",
    "    dateObject = date(year, month, day)\n",
    "    return dateObject"
   ]
  },
  {
   "cell_type": "code",
   "execution_count": 20,
   "metadata": {
    "ExecuteTime": {
     "end_time": "2018-10-19T00:42:41.857831Z",
     "start_time": "2018-10-19T00:42:19.458550Z"
    },
    "code_folding": []
   },
   "outputs": [
    {
     "data": {
      "text/html": [
       "<div>\n",
       "<style>\n",
       "    .dataframe thead tr:only-child th {\n",
       "        text-align: right;\n",
       "    }\n",
       "\n",
       "    .dataframe thead th {\n",
       "        text-align: left;\n",
       "    }\n",
       "\n",
       "    .dataframe tbody tr th {\n",
       "        vertical-align: top;\n",
       "    }\n",
       "</style>\n",
       "<table border=\"1\" class=\"dataframe\">\n",
       "  <thead>\n",
       "    <tr style=\"text-align: right;\">\n",
       "      <th></th>\n",
       "      <th>matchcode</th>\n",
       "      <th>x0</th>\n",
       "      <th>x1</th>\n",
       "      <th>x2</th>\n",
       "      <th>x3</th>\n",
       "      <th>x4</th>\n",
       "      <th>x5</th>\n",
       "      <th>x6</th>\n",
       "      <th>x7</th>\n",
       "      <th>x8</th>\n",
       "      <th>x9</th>\n",
       "      <th>x10</th>\n",
       "      <th>y</th>\n",
       "    </tr>\n",
       "  </thead>\n",
       "  <tbody>\n",
       "    <tr>\n",
       "      <th>7009</th>\n",
       "      <td>2327903</td>\n",
       "      <td>1</td>\n",
       "      <td>2</td>\n",
       "      <td>8</td>\n",
       "      <td>2</td>\n",
       "      <td>-137</td>\n",
       "      <td>16</td>\n",
       "      <td>4</td>\n",
       "      <td>-274</td>\n",
       "      <td>16</td>\n",
       "      <td>-1096</td>\n",
       "      <td>-274</td>\n",
       "      <td>0</td>\n",
       "    </tr>\n",
       "    <tr>\n",
       "      <th>7010</th>\n",
       "      <td>2327900</td>\n",
       "      <td>1</td>\n",
       "      <td>-4</td>\n",
       "      <td>9</td>\n",
       "      <td>-1</td>\n",
       "      <td>-72</td>\n",
       "      <td>-36</td>\n",
       "      <td>4</td>\n",
       "      <td>288</td>\n",
       "      <td>-9</td>\n",
       "      <td>-648</td>\n",
       "      <td>72</td>\n",
       "      <td>100</td>\n",
       "    </tr>\n",
       "    <tr>\n",
       "      <th>7011</th>\n",
       "      <td>2327900</td>\n",
       "      <td>1</td>\n",
       "      <td>6</td>\n",
       "      <td>12</td>\n",
       "      <td>0</td>\n",
       "      <td>-68</td>\n",
       "      <td>72</td>\n",
       "      <td>0</td>\n",
       "      <td>-408</td>\n",
       "      <td>0</td>\n",
       "      <td>-816</td>\n",
       "      <td>0</td>\n",
       "      <td>100</td>\n",
       "    </tr>\n",
       "    <tr>\n",
       "      <th>7012</th>\n",
       "      <td>2327903</td>\n",
       "      <td>1</td>\n",
       "      <td>-11</td>\n",
       "      <td>-6</td>\n",
       "      <td>0</td>\n",
       "      <td>-163</td>\n",
       "      <td>66</td>\n",
       "      <td>0</td>\n",
       "      <td>1793</td>\n",
       "      <td>0</td>\n",
       "      <td>978</td>\n",
       "      <td>0</td>\n",
       "      <td>0</td>\n",
       "    </tr>\n",
       "    <tr>\n",
       "      <th>7013</th>\n",
       "      <td>2327386</td>\n",
       "      <td>1</td>\n",
       "      <td>-5</td>\n",
       "      <td>1</td>\n",
       "      <td>1</td>\n",
       "      <td>-135</td>\n",
       "      <td>-5</td>\n",
       "      <td>-5</td>\n",
       "      <td>675</td>\n",
       "      <td>1</td>\n",
       "      <td>-135</td>\n",
       "      <td>-135</td>\n",
       "      <td>0</td>\n",
       "    </tr>\n",
       "    <tr>\n",
       "      <th>7014</th>\n",
       "      <td>2327386</td>\n",
       "      <td>1</td>\n",
       "      <td>-6</td>\n",
       "      <td>4</td>\n",
       "      <td>0</td>\n",
       "      <td>-141</td>\n",
       "      <td>-24</td>\n",
       "      <td>0</td>\n",
       "      <td>846</td>\n",
       "      <td>0</td>\n",
       "      <td>-564</td>\n",
       "      <td>0</td>\n",
       "      <td>0</td>\n",
       "    </tr>\n",
       "    <tr>\n",
       "      <th>7015</th>\n",
       "      <td>2327813</td>\n",
       "      <td>1</td>\n",
       "      <td>8</td>\n",
       "      <td>20</td>\n",
       "      <td>2</td>\n",
       "      <td>-41</td>\n",
       "      <td>160</td>\n",
       "      <td>16</td>\n",
       "      <td>-328</td>\n",
       "      <td>40</td>\n",
       "      <td>-820</td>\n",
       "      <td>-82</td>\n",
       "      <td>100</td>\n",
       "    </tr>\n",
       "    <tr>\n",
       "      <th>7016</th>\n",
       "      <td>2327835</td>\n",
       "      <td>1</td>\n",
       "      <td>9</td>\n",
       "      <td>24</td>\n",
       "      <td>1</td>\n",
       "      <td>1116</td>\n",
       "      <td>216</td>\n",
       "      <td>9</td>\n",
       "      <td>10044</td>\n",
       "      <td>24</td>\n",
       "      <td>26784</td>\n",
       "      <td>1116</td>\n",
       "      <td>100</td>\n",
       "    </tr>\n",
       "    <tr>\n",
       "      <th>7017</th>\n",
       "      <td>2327812</td>\n",
       "      <td>1</td>\n",
       "      <td>-2</td>\n",
       "      <td>-17</td>\n",
       "      <td>1</td>\n",
       "      <td>146</td>\n",
       "      <td>34</td>\n",
       "      <td>-2</td>\n",
       "      <td>-292</td>\n",
       "      <td>-17</td>\n",
       "      <td>-2482</td>\n",
       "      <td>146</td>\n",
       "      <td>100</td>\n",
       "    </tr>\n",
       "    <tr>\n",
       "      <th>7018</th>\n",
       "      <td>2327387</td>\n",
       "      <td>1</td>\n",
       "      <td>9</td>\n",
       "      <td>12</td>\n",
       "      <td>2</td>\n",
       "      <td>-357</td>\n",
       "      <td>108</td>\n",
       "      <td>18</td>\n",
       "      <td>-3213</td>\n",
       "      <td>24</td>\n",
       "      <td>-4284</td>\n",
       "      <td>-714</td>\n",
       "      <td>0</td>\n",
       "    </tr>\n",
       "  </tbody>\n",
       "</table>\n",
       "</div>"
      ],
      "text/plain": [
       "     matchcode x0   x1   x2  x3    x4   x5  x6     x7   x8     x9   x10    y\n",
       "7009   2327903  1    2    8   2  -137   16   4   -274   16  -1096  -274    0\n",
       "7010   2327900  1   -4    9  -1   -72  -36   4    288   -9   -648    72  100\n",
       "7011   2327900  1    6   12   0   -68   72   0   -408    0   -816     0  100\n",
       "7012   2327903  1  -11   -6   0  -163   66   0   1793    0    978     0    0\n",
       "7013   2327386  1   -5    1   1  -135   -5  -5    675    1   -135  -135    0\n",
       "7014   2327386  1   -6    4   0  -141  -24   0    846    0   -564     0    0\n",
       "7015   2327813  1    8   20   2   -41  160  16   -328   40   -820   -82  100\n",
       "7016   2327835  1    9   24   1  1116  216   9  10044   24  26784  1116  100\n",
       "7017   2327812  1   -2  -17   1   146   34  -2   -292  -17  -2482   146  100\n",
       "7018   2327387  1    9   12   2  -357  108  18  -3213   24  -4284  -714    0"
      ]
     },
     "metadata": {},
     "output_type": "display_data"
    }
   ],
   "source": [
    "# Running time about 20s\n",
    "graph = Graph()\n",
    "columns = ['matchcode', 'x0', 'x1', 'x2', 'x3', 'x4', 'x5', 'x6', 'x7', 'x8', 'x9', 'x10', 'y']\n",
    "featureFrame = pd.DataFrame(columns=columns)\n",
    "for index, row in resultsdf.iterrows():\n",
    "    \n",
    "    #Get Vertex objects\n",
    "    team1 = graph.addTeam(row['team1'])\n",
    "    team2 = graph.addTeam(row['team2'])\n",
    "    \n",
    "    #Get Result object\n",
    "    #y = True if team1 is winner, False if team2 is winner\n",
    "    y = row['score1'] > row['score2']\n",
    "    winner = team1 if y else team2\n",
    "    loser = team2 if y else team1\n",
    "    dif = abs(row['score1'] - row['score2'])\n",
    "    dateResult = getDate(row['date'])\n",
    "    result = Result(winner=winner, loser=loser, dateResult=dateResult, dif=dif, playedMap=row['map'])\n",
    "    \n",
    "    #Get Features\n",
    "    (x1, x2) = team1.getSharedResults(team2.toString())\n",
    "    if(x1 is not None and x2 is not None):\n",
    "        x3 = team1.getRelativeMomentum(team2)\n",
    "        x4 = getLessSimpleAlgorithmScore(team1, team2, graph)\n",
    "        x5 = x1*x2\n",
    "        x6 = x1*x3\n",
    "        x7 = x1*x4\n",
    "        x8 = x2*x3\n",
    "        x9 = x2*x4\n",
    "        x10 = x3*x4\n",
    "        featureFrame = featureFrame.append({'matchcode': row['matchcode'], 'x0':1, 'x1':x1,'x2':x2, 'x3':x3,'x4':x4, 'x5':x5,\n",
    "                                        'x6':x6, 'x7':x7, 'x8':x8, 'x9':x9, 'x10':x10, 'y':int(y)*100}, ignore_index=True)\n",
    "    #Add result to edge\n",
    "    winner.addResult(result)\n",
    "display(featureFrame[-10:])"
   ]
  },
  {
   "cell_type": "markdown",
   "metadata": {},
   "source": [
    "## Split Training and test data\n",
    "Turn the DataFrame with all the features into (train&test) matrixes and result vectors. "
   ]
  },
  {
   "cell_type": "code",
   "execution_count": 21,
   "metadata": {
    "ExecuteTime": {
     "end_time": "2018-10-19T00:42:52.329430Z",
     "start_time": "2018-10-19T00:42:52.213424Z"
    }
   },
   "outputs": [
    {
     "name": "stderr",
     "output_type": "stream",
     "text": [
      "D:\\Games\\Anaconda\\lib\\site-packages\\ipykernel_launcher.py:17: SettingWithCopyWarning: \n",
      "A value is trying to be set on a copy of a slice from a DataFrame\n",
      "\n",
      "See the caveats in the documentation: http://pandas.pydata.org/pandas-docs/stable/indexing.html#indexing-view-versus-copy\n",
      "D:\\Games\\Anaconda\\lib\\site-packages\\ipykernel_launcher.py:18: SettingWithCopyWarning: \n",
      "A value is trying to be set on a copy of a slice from a DataFrame\n",
      "\n",
      "See the caveats in the documentation: http://pandas.pydata.org/pandas-docs/stable/indexing.html#indexing-view-versus-copy\n"
     ]
    }
   ],
   "source": [
    "#Decide length of train & test matrixes and result vectors\n",
    "trainingSplit = 85\n",
    "n = len(featureFrame['x0'])\n",
    "nTraining = int((n/100)*trainingSplit)\n",
    "nTest = n - nTraining\n",
    "\n",
    "#Split featureFrame in training and test frames\n",
    "trainingFrame = featureFrame.head(nTraining)\n",
    "testFrame = featureFrame.tail(nTest)\n",
    "\n",
    "#Get result vectors\n",
    "testY = testFrame['y'].values.tolist()\n",
    "trainY = trainingFrame['y'].values.tolist()\n",
    "\n",
    "#Drop columns \"matchcode\" and 'y' so that the resulting dataframe\n",
    "#can be converted to a matrix with a simple command: values.tolist()\n",
    "testFrame.drop(['matchcode', 'y'], axis=1, inplace=True)\n",
    "trainingFrame.drop(['matchcode', 'y'], axis=1, inplace=True)\n",
    "\n",
    "#Get Training en Test matrices\n",
    "testX = testFrame.values.tolist()\n",
    "trainX = trainingFrame.values.tolist()\n"
   ]
  },
  {
   "cell_type": "markdown",
   "metadata": {},
   "source": [
    "## Train"
   ]
  },
  {
   "cell_type": "markdown",
   "metadata": {},
   "source": [
    "### Normal equation to get theta"
   ]
  },
  {
   "cell_type": "code",
   "execution_count": 8,
   "metadata": {
    "ExecuteTime": {
     "end_time": "2018-10-19T00:30:59.311648Z",
     "start_time": "2018-10-19T00:30:59.304648Z"
    },
    "collapsed": true
   },
   "outputs": [],
   "source": [
    "def normalEquation(X, y):\n",
    "    xT = np.transpose(X)\n",
    "    xTx = xT.dot(X)\n",
    "    XtX = np.linalg.inv(xTx)\n",
    "    XtX_xT = XtX.dot(xT)\n",
    "    theta = XtX_xT.dot(y)\n",
    "    return(theta)"
   ]
  },
  {
   "cell_type": "markdown",
   "metadata": {},
   "source": [
    "### Calculate theta"
   ]
  },
  {
   "cell_type": "code",
   "execution_count": 9,
   "metadata": {
    "ExecuteTime": {
     "end_time": "2018-10-19T00:30:59.360651Z",
     "start_time": "2018-10-19T00:30:59.314648Z"
    }
   },
   "outputs": [
    {
     "name": "stdout",
     "output_type": "stream",
     "text": [
      "[  5.19425871e+01   3.69448516e-01   2.75875468e-01   1.15050090e+00\n",
      "   2.62257187e-02  -1.89999776e-02   8.08290878e-02  -1.06286848e-03\n",
      "   2.01099647e-02  -5.98258239e-04   3.55743588e-03]\n"
     ]
    }
   ],
   "source": [
    "theta = normalEquation(trainX, trainY)\n",
    "print(theta)"
   ]
  },
  {
   "cell_type": "markdown",
   "metadata": {},
   "source": [
    "## Implementing theta to calculate predictions"
   ]
  },
  {
   "cell_type": "markdown",
   "metadata": {},
   "source": [
    "### Calculate succes rate for test data"
   ]
  },
  {
   "cell_type": "code",
   "execution_count": 10,
   "metadata": {
    "ExecuteTime": {
     "end_time": "2018-10-19T00:30:59.403653Z",
     "start_time": "2018-10-19T00:30:59.362651Z"
    }
   },
   "outputs": [
    {
     "name": "stdout",
     "output_type": "stream",
     "text": [
      "right:  641\n",
      "wrong:  412\n",
      "prediction rate:  0.6087369420702754\n"
     ]
    }
   ],
   "source": [
    "def mdfdSigmoid(x):\n",
    "    return 100/(1+(pow(math.e, -((x-50)/150))))\n",
    "\n",
    "rights = 0\n",
    "wrongs = 0\n",
    "for i in range (0, nTest):\n",
    "    inproduct = theta.dot(testX[i])\n",
    "    prediction = mdfdSigmoid(inproduct)\n",
    "    if prediction > 50 and testY[i] > 50:\n",
    "        rights = rights + 1\n",
    "    elif prediction < 50 and testY[i] < 50:\n",
    "        rights = rights + 1\n",
    "    else:\n",
    "        wrongs = wrongs + 1\n",
    "    #print (prediction, testY[i])\n",
    "    \n",
    "print(\"right: \", rights)\n",
    "print(\"wrong: \", wrongs)\n",
    "print(\"prediction rate: \", rights/(nTest))"
   ]
  },
  {
   "cell_type": "markdown",
   "metadata": {},
   "source": [
    "### Calculate succes rate for training data"
   ]
  },
  {
   "cell_type": "code",
   "execution_count": 11,
   "metadata": {
    "ExecuteTime": {
     "end_time": "2018-10-19T00:30:59.477658Z",
     "start_time": "2018-10-19T00:30:59.408654Z"
    }
   },
   "outputs": [
    {
     "name": "stdout",
     "output_type": "stream",
     "text": [
      "right:  3649\n",
      "wrong:  2317\n",
      "prediction rate:  0.6116325846463292\n"
     ]
    }
   ],
   "source": [
    "rights = 0\n",
    "wrongs = 0\n",
    "for i in range (0, nTraining):\n",
    "    inproduct = theta.dot(trainX[i])\n",
    "    prediction = mdfdSigmoid(inproduct)\n",
    "    if prediction > 50 and trainY[i] > 50:\n",
    "        rights = rights + 1\n",
    "    elif prediction < 50 and trainY[i] < 50:\n",
    "        rights = rights + 1\n",
    "    else:\n",
    "        wrongs = wrongs + 1\n",
    "    #print (prediction, testY[i])\n",
    "    \n",
    "print(\"right: \", rights)\n",
    "print(\"wrong: \", wrongs)\n",
    "print(\"prediction rate: \", rights/(nTraining))"
   ]
  }
 ],
 "metadata": {
  "kernelspec": {
   "display_name": "Python 3",
   "language": "python",
   "name": "python3"
  },
  "language_info": {
   "codemirror_mode": {
    "name": "ipython",
    "version": 3
   },
   "file_extension": ".py",
   "mimetype": "text/x-python",
   "name": "python",
   "nbconvert_exporter": "python",
   "pygments_lexer": "ipython3",
   "version": "3.6.3"
  },
  "toc": {
   "base_numbering": 1,
   "nav_menu": {},
   "number_sections": true,
   "sideBar": true,
   "skip_h1_title": true,
   "title_cell": "Table of Contents",
   "title_sidebar": "Contents",
   "toc_cell": true,
   "toc_position": {},
   "toc_section_display": true,
   "toc_window_display": false
  }
 },
 "nbformat": 4,
 "nbformat_minor": 2
}
