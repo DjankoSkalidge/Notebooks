{
 "cells": [
  {
   "cell_type": "markdown",
   "metadata": {
    "toc": true
   },
   "source": [
    "<h1>Table of Contents<span class=\"tocSkip\"></span></h1>\n",
    "<div class=\"toc\"><ul class=\"toc-item\"><li><span><a href=\"#Dependencies\" data-toc-modified-id=\"Dependencies-1\"><span class=\"toc-item-num\">1&nbsp;&nbsp;</span>Dependencies</a></span></li><li><span><a href=\"#Reading-the-csv-file\" data-toc-modified-id=\"Reading-the-csv-file-2\"><span class=\"toc-item-num\">2&nbsp;&nbsp;</span>Reading the csv file</a></span></li><li><span><a href=\"#Calculating-the-features\" data-toc-modified-id=\"Calculating-the-features-3\"><span class=\"toc-item-num\">3&nbsp;&nbsp;</span>Calculating the features</a></span><ul class=\"toc-item\"><li><span><a href=\"#Features\" data-toc-modified-id=\"Features-3.1\"><span class=\"toc-item-num\">3.1&nbsp;&nbsp;</span>Features</a></span></li></ul></li><li><span><a href=\"#Split-Training-and-test-data\" data-toc-modified-id=\"Split-Training-and-test-data-4\"><span class=\"toc-item-num\">4&nbsp;&nbsp;</span>Split Training and test data</a></span></li><li><span><a href=\"#Normal-equation-to-get-theta\" data-toc-modified-id=\"Normal-equation-to-get-theta-5\"><span class=\"toc-item-num\">5&nbsp;&nbsp;</span>Normal equation to get theta</a></span></li><li><span><a href=\"#Implementing-theta-to-calculate-predictions\" data-toc-modified-id=\"Implementing-theta-to-calculate-predictions-6\"><span class=\"toc-item-num\">6&nbsp;&nbsp;</span>Implementing theta to calculate predictions</a></span></li></ul></div>"
   ]
  },
  {
   "cell_type": "markdown",
   "metadata": {},
   "source": [
    "# Machine learning prediction algorithm for CS:GO matches"
   ]
  },
  {
   "cell_type": "markdown",
   "metadata": {},
   "source": [
    "## Dependencies"
   ]
  },
  {
   "cell_type": "code",
   "execution_count": 1,
   "metadata": {
    "ExecuteTime": {
     "end_time": "2018-10-13T23:08:30.624007Z",
     "start_time": "2018-10-13T23:08:30.218385Z"
    },
    "collapsed": true
   },
   "outputs": [],
   "source": [
    "import pandas as pd"
   ]
  },
  {
   "cell_type": "markdown",
   "metadata": {},
   "source": [
    "## Reading the csv file\n",
    "The file results14_10_2018.csv contains all results of professional csgo matches starting from 30-06-2017 to 14-10-2018."
   ]
  },
  {
   "cell_type": "code",
   "execution_count": 22,
   "metadata": {
    "ExecuteTime": {
     "end_time": "2018-10-13T23:20:44.195696Z",
     "start_time": "2018-10-13T23:20:44.132494Z"
    }
   },
   "outputs": [],
   "source": [
    "resultsdf = pd.read_csv('results14_10_2018.csv', index_col=0, encoding='latin1')\n",
    "resultsdf.sort_values(by='date', ascending=True, inplace=True)\n",
    "resultsdf.reset_index(drop=True, inplace=True)"
   ]
  },
  {
   "cell_type": "markdown",
   "metadata": {},
   "source": [
    "## Calculating the features\n",
    "The features will be saved in a pandas dataframe. The results will one by one be loaded into a graph, and the features will be calculated before adding the result to the graph.\n",
    "### Features\n",
    " - +/- last shared match\n",
    " - +/- last 3 shared matches\n",
    " - Win percentage last 10 matches"
   ]
  },
  {
   "cell_type": "code",
   "execution_count": null,
   "metadata": {
    "ExecuteTime": {
     "end_time": "2018-10-13T23:20:46.168572Z",
     "start_time": "2018-10-13T23:20:46.116371Z"
    }
   },
   "outputs": [],
   "source": []
  },
  {
   "cell_type": "markdown",
   "metadata": {},
   "source": [
    "## Split Training and test data\n",
    "Turn the DataFrame with all the features into (train&test) matrixes and result vectors. "
   ]
  },
  {
   "cell_type": "code",
   "execution_count": null,
   "metadata": {
    "collapsed": true
   },
   "outputs": [],
   "source": []
  },
  {
   "cell_type": "markdown",
   "metadata": {},
   "source": [
    "## Normal equation to get theta"
   ]
  },
  {
   "cell_type": "code",
   "execution_count": null,
   "metadata": {
    "collapsed": true
   },
   "outputs": [],
   "source": [
    "def normalEquation(X, y):\n",
    "    xT = np.transpose(X)\n",
    "    xTx = xT.dot(X)\n",
    "    XtX = np.linalg.inv(xTx)\n",
    "    XtX_xT = XtX.dot(xT)\n",
    "    theta = XtX_xT.dot(y)\n",
    "    return(theta)"
   ]
  },
  {
   "cell_type": "markdown",
   "metadata": {},
   "source": [
    "## Implementing theta to calculate predictions"
   ]
  }
 ],
 "metadata": {
  "kernelspec": {
   "display_name": "Python 3",
   "language": "python",
   "name": "python3"
  },
  "language_info": {
   "codemirror_mode": {
    "name": "ipython",
    "version": 3
   },
   "file_extension": ".py",
   "mimetype": "text/x-python",
   "name": "python",
   "nbconvert_exporter": "python",
   "pygments_lexer": "ipython3",
   "version": "3.6.3"
  },
  "toc": {
   "base_numbering": 1,
   "nav_menu": {},
   "number_sections": true,
   "sideBar": true,
   "skip_h1_title": true,
   "title_cell": "Table of Contents",
   "title_sidebar": "Contents",
   "toc_cell": true,
   "toc_position": {},
   "toc_section_display": true,
   "toc_window_display": false
  }
 },
 "nbformat": 4,
 "nbformat_minor": 2
}
